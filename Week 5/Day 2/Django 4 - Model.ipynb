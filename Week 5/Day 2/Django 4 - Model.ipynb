{
 "cells": [
  {
   "cell_type": "markdown",
   "id": "4118a9b8-67cf-4840-bec5-6f3a09395336",
   "metadata": {},
   "source": [
    "# Django 4"
   ]
  },
  {
   "cell_type": "code",
   "execution_count": null,
   "id": "2596212b-fcf0-4933-854f-52c4aa63575b",
   "metadata": {},
   "outputs": [],
   "source": []
  }
 ],
 "metadata": {
  "kernelspec": {
   "display_name": "Python 3",
   "language": "python",
   "name": "python3"
  },
  "language_info": {
   "codemirror_mode": {
    "name": "ipython",
    "version": 3
   },
   "file_extension": ".py",
   "mimetype": "text/x-python",
   "name": "python",
   "nbconvert_exporter": "python",
   "pygments_lexer": "ipython3",
   "version": "3.8.8"
  }
 },
 "nbformat": 4,
 "nbformat_minor": 5
}

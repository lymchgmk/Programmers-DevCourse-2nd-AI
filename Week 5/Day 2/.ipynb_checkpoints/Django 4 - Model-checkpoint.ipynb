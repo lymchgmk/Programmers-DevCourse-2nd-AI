{
 "cells": [
  {
   "cell_type": "markdown",
   "id": "4118a9b8-67cf-4840-bec5-6f3a09395336",
   "metadata": {},
   "source": [
    "# Django 4"
   ]
  },
  {
   "cell_type": "markdown",
   "id": "65ca8898-8e65-40eb-a0d6-f16c2391b064",
   "metadata": {},
   "source": [
    "## SQL vs ORM"
   ]
  },
  {
   "cell_type": "code",
   "execution_count": null,
   "id": "ddc86e27-f1da-472c-beec-24bd37e7450a",
   "metadata": {},
   "outputs": [],
   "source": []
  }
 ],
 "metadata": {
  "kernelspec": {
   "display_name": "Python 3",
   "language": "python",
   "name": "python3"
  },
  "language_info": {
   "codemirror_mode": {
    "name": "ipython",
    "version": 3
   },
   "file_extension": ".py",
   "mimetype": "text/x-python",
   "name": "python",
   "nbconvert_exporter": "python",
   "pygments_lexer": "ipython3",
   "version": "3.8.8"
  }
 },
 "nbformat": 4,
 "nbformat_minor": 5
}

{
 "cells": [
  {
   "cell_type": "markdown",
   "id": "c4f15d2a-2a11-4575-9aea-8ef922fea3d2",
   "metadata": {},
   "source": [
    "# 3. Template로 보여줄 화면 구성하기"
   ]
  },
  {
   "cell_type": "code",
   "execution_count": null,
   "id": "61de58d0-fbf1-43e1-bc57-2d5fc2dfb89b",
   "metadata": {},
   "outputs": [],
   "source": []
  }
 ],
 "metadata": {
  "kernelspec": {
   "display_name": "Python 3",
   "language": "python",
   "name": "python3"
  },
  "language_info": {
   "codemirror_mode": {
    "name": "ipython",
    "version": 3
   },
   "file_extension": ".py",
   "mimetype": "text/x-python",
   "name": "python",
   "nbconvert_exporter": "python",
   "pygments_lexer": "ipython3",
   "version": "3.8.8"
  }
 },
 "nbformat": 4,
 "nbformat_minor": 5
}

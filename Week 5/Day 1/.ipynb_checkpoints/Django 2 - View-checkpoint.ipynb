{
 "cells": [
  {
   "cell_type": "markdown",
   "id": "234d79b4-8c7c-422f-89a6-df3e8945d314",
   "metadata": {},
   "source": [
    "# 2. View"
   ]
  },
  {
   "cell_type": "markdown",
   "id": "7e073422-f88b-4a77-a1ee-2806569b6dd2",
   "metadata": {},
   "source": [
    "## View로 Request Handling하기"
   ]
  }
 ],
 "metadata": {
  "kernelspec": {
   "display_name": "Python 3",
   "language": "python",
   "name": "python3"
  },
  "language_info": {
   "codemirror_mode": {
    "name": "ipython",
    "version": 3
   },
   "file_extension": ".py",
   "mimetype": "text/x-python",
   "name": "python",
   "nbconvert_exporter": "python",
   "pygments_lexer": "ipython3",
   "version": "3.8.8"
  }
 },
 "nbformat": 4,
 "nbformat_minor": 5
}

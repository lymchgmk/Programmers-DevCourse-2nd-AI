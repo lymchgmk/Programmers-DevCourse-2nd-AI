{
 "cells": [
  {
   "cell_type": "markdown",
   "id": "793d47c0-2c68-4a65-8464-2640673e7854",
   "metadata": {},
   "source": [
    "# 정렬"
   ]
  },
  {
   "cell_type": "markdown",
   "id": "1e37bc09-e832-40ee-baa3-d96cdc6a0dcc",
   "metadata": {},
   "source": [
    "> 정렬 알고리즘은 목록의 요소를 특정 순서대로 넣는 알고리즘이다."
   ]
  },
  {
   "cell_type": "markdown",
   "id": "c3c2085c-ee30-49f4-a1e5-fac7dc31735b",
   "metadata": {},
   "source": [
    "- 숫자식 순서(Numerical Order) / 사전식 순서(Lexicographical Order)"
   ]
  },
  {
   "cell_type": "markdown",
   "id": "73b01b73-a4b2-4ded-9bd7-87717f0dfb9d",
   "metadata": {},
   "source": [
    "## 버블 정렬"
   ]
  },
  {
   "cell_type": "markdown",
   "id": "1b7e9562-8ad6-4e85-a1e0-765653e3f651",
   "metadata": {},
   "source": [
    "- 시간복잡도 O(n^2)"
   ]
  },
  {
   "cell_type": "code",
   "execution_count": 1,
   "id": "3e2aa9f7-deb5-421d-9016-a62ec10139cc",
   "metadata": {},
   "outputs": [
    {
     "ename": "IndentationError",
     "evalue": "unexpected indent (<ipython-input-1-fbf3e265bc20>, line 3)",
     "output_type": "error",
     "traceback": [
      "\u001b[1;36m  File \u001b[1;32m\"<ipython-input-1-fbf3e265bc20>\"\u001b[1;36m, line \u001b[1;32m3\u001b[0m\n\u001b[1;33m    for i from 1 to A.length\u001b[0m\n\u001b[1;37m    ^\u001b[0m\n\u001b[1;31mIndentationError\u001b[0m\u001b[1;31m:\u001b[0m unexpected indent\n"
     ]
    }
   ],
   "source": [
    "# 버블 정렬 수도코드\n",
    "\n",
    "Bubblesort(A)\n",
    "    for i from 1 to A.length\n",
    "        for j from 0 to A.length - 1\n",
    "            if A[j] > A[j+1]\n",
    "                swap a[j] with a[j+1]"
   ]
  },
  {
   "cell_type": "code",
   "execution_count": 2,
   "id": "0ae15867-5052-4e9d-89dd-088202f92c1d",
   "metadata": {},
   "outputs": [],
   "source": [
    "# 버블 정렬 파이썬 코드\n",
    "def bubblesort(A):\n",
    "    for i in range(1, len(A)):\n",
    "        for j in range(0, len(A)-1):\n",
    "            if A[j] > A[j+1]:\n",
    "                A[j], A[j+1] = A[j+1], A[j]"
   ]
  },
  {
   "cell_type": "markdown",
   "id": "813d1e3d-c8f2-4c50-9207-06973d766e1c",
   "metadata": {},
   "source": [
    "## 병합 정렬"
   ]
  },
  {
   "cell_type": "markdown",
   "id": "34576a6c-538a-4241-be18-e85b86ef04d1",
   "metadata": {},
   "source": [
    "- 시간복잡도 O(nlogn), 최선과 최악 모두 O(nlogn)\n",
    "- 존 폰 노이만이 고안한 알고리즘, 분할 정복 알고리즘"
   ]
  },
  {
   "cell_type": "markdown",
   "id": "4c039248-ee94-4507-b597-1c7335b00ec2",
   "metadata": {},
   "source": [
    "## 퀵 정렬"
   ]
  },
  {
   "cell_type": "markdown",
   "id": "8978b962-4807-4636-8373-4237a8c8c287",
   "metadata": {},
   "source": []
  }
 ],
 "metadata": {
  "kernelspec": {
   "display_name": "Python 3",
   "language": "python",
   "name": "python3"
  },
  "language_info": {
   "codemirror_mode": {
    "name": "ipython",
    "version": 3
   },
   "file_extension": ".py",
   "mimetype": "text/x-python",
   "name": "python",
   "nbconvert_exporter": "python",
   "pygments_lexer": "ipython3",
   "version": "3.8.8"
  }
 },
 "nbformat": 4,
 "nbformat_minor": 5
}

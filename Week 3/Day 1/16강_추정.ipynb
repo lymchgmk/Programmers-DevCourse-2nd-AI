{
 "cells": [
  {
   "cell_type": "markdown",
   "metadata": {},
   "source": [
    "# 16강. 추정"
   ]
  },
  {
   "cell_type": "markdown",
   "metadata": {},
   "source": [
    "## 이론"
   ]
  },
  {
   "cell_type": "markdown",
   "metadata": {},
   "source": [
    "- 모평균의 추청\n",
    "    - 점추정\n",
    "    - 구간추청\n",
    "- 모비율의 추정\n",
    "    - 점추정\n",
    "    - 구간추정"
   ]
  },
  {
   "cell_type": "markdown",
   "metadata": {},
   "source": [
    "(1) 모평균의 추정\n",
    "- 표본평균의 특성\n",
    "    1. 모집단이 정규분포인 경우\n",
    "        - 표본평균(sample mean) 사용\n",
    "            - $\\bar {X} = \\frac {X_{1} + X_{2} + \\dots + X_{n}} {n} = \\frac {\\sum_{i=1} ^{n} X_{1}} {n}$\n",
    "            - $\\bar {X}$는 모평균 $\\mu$의 추정에 사용되는 통계량\n",
    "                \n",
    "    2. 대표본인 경우\n",
    "         - 중심극한정리에 의해 표본평균이 정규분포를 따른다고 가정함."
   ]
  },
  {
   "cell_type": "markdown",
   "metadata": {},
   "source": [
    "(1)-1. 점추정\n",
    "-  표본평균이 점 추정값(추정량)이 됨"
   ]
  },
  {
   "cell_type": "code",
   "execution_count": 1,
   "metadata": {},
   "outputs": [
    {
     "data": {
      "text/plain": [
       "4.6"
      ]
     },
     "execution_count": 1,
     "metadata": {},
     "output_type": "execute_result"
    }
   ],
   "source": [
    "import numpy as np\n",
    "samples = [9, 4, 0, 8, 1, 3, 7, 8, 4, 2]\n",
    "np.mean(samples)"
   ]
  },
  {
   "cell_type": "markdown",
   "metadata": {},
   "source": [
    "(1)-2. 구간추정\n",
    "   1. 모평균 $\\mu$의 $100(1-\\alpha)\\%$ 신뢰구간(confidence interval)\n",
    "        - ($\\mu$의 추정량) $\\pm z_{\\alpha/2}$(추정량의 표준편차)\n",
    "        - 정규분포에서 $\\sigma$를 알 때,\n",
    "        $$\\left ( \\bar {x} - z_{\\alpha/2} \\frac {\\sigma} {\\sqrt {n}}, \\bar {x} + z_{\\alpha/2} \\frac {\\sigma} {\\sqrt {n}} \\right )$$\n",
    "            - 실용적이지 못함. 정규분포가 아니거나 표준편차를 모르기 때문.\n",
    "            \n",
    "   2. ***표본의 크기가 클 때***, 중심극한정리를 사용하는 경우\n",
    "        - $s$: 표본표준편차\n",
    "        - ($\\mu$의 추정량) $\\pm z_{\\alpha/2}$(추정량의 표준편차)\n",
    "        $$\\left ( \\bar {x} - z_{\\alpha/2} \\frac {s} {\\sqrt {n}}, \\bar {x} + z_{\\alpha/2} \\frac {s} {\\sqrt {n}} \\right )$$"
   ]
  },
  {
   "cell_type": "markdown",
   "metadata": {},
   "source": [
    "- 구간추정 예제 1.\n",
    "    - \" 어떤 학교의 고1 남학생의 평균키를 추정하기 위해 36명을 표본으로 추출하여 그 표본평균과 표본표준편차를 계산하여 그 결과가 아래와 같다. 평균키에 대한 95% 신뢰 구간을 구하시오.\"\n",
    "    $$\\bar {x} = 173.6, s = 3.6$$\n",
    "    \n",
    "    - 풀이\n",
    "        - $\\alpha = 0.05$\n",
    "        - $z_{\\alpha/2} = z_{0.025} = 1.96$\n",
    "        - $z_{\\alpha/2} \\frac {s} {\\sqrt {n}} = 1.96 \\times \\frac {3.6} {\\sqrt {36}} = 1.176$\n",
    "        - 95% 신뢰 구간은 $(173.6 - 1.176, 173.6 + 13176) = (172.4, 174.8)$"
   ]
  },
  {
   "cell_type": "markdown",
   "metadata": {},
   "source": [
    "- 구간추정 예제 2.\n",
    "    - \"어떤 농장에서 생산된 계란 30개의 표본을 뽑았더니 그 무게가 아래와 같다. 계란의 평균 무게에 대한 95% 신뢰 구간을 구하시오.\"\n",
    "    $$w = [10.\n",
    "    7, 11.7, 9.8, 11.4, 10.8, 9.9, 10.1, 8.8, 12.2, 11.0, 11.3, 11.1, 10.3, 10.0, 9.9, 11.1, 11.7, 11.5, 9.1, 10.3, 8.6, 12.1, 10.0, 13.0, 9.2, 9.8, 9.3, 9.4, 9.6, 9.2\n",
    "    ]$$"
   ]
  },
  {
   "cell_type": "code",
   "execution_count": 4,
   "metadata": {},
   "outputs": [
    {
     "name": "stdout",
     "output_type": "stream",
     "text": [
      "평균:  10.43, 표쥰편차:  1.11\n",
      "zalpha: 1.959963984540054\n"
     ]
    }
   ],
   "source": [
    "# 풀이\n",
    "import numpy as np\n",
    "import scipy.stats\n",
    "\n",
    "\n",
    "w = [10.7, 11.7, 9.8, 11.4, 10.8, 9.9, 10.1, 8.8, 12.2, 11.0, 11.3, 11.1, 10.3, 10.0, 9.9, 11.1, 11.7, 11.5, 9.1, 10.3, 8.6, 12.1, 10.0, 13.0, 9.2, 9.8, 9.3, 9.4, 9.6, 9.2]\n",
    "xbar = np.mean(w)\n",
    "sd = np.std(w, ddof=1)\n",
    "print(f'평균: {xbar: .2f}, 표쥰편차: {sd: .2f}')\n",
    "\n",
    "alpha = 0.05\n",
    "zalpha = scipy.stats.norm.ppf(1-alpha/2)\n",
    "print(f'zalpha: {zalpha}')"
   ]
  },
  {
   "cell_type": "markdown",
   "metadata": {},
   "source": [
    "(2) 모비율의 추정"
   ]
  },
  {
   "cell_type": "markdown",
   "metadata": {},
   "source": [
    "(2)-1. 점 추정\n",
    "   - 확률변수 $X$: $n$개의 표본에서 특정 속성을 갖는 표본의 개수\n",
    "   - 모비율 $p$의 점추정량: $\\hat{p} =\\frac {X} {n}$"
   ]
  },
  {
   "cell_type": "markdown",
   "metadata": {},
   "source": [
    "- 점 추정 예제 1.\n",
    "    - \"대학교 1학년생의 흡연율을 조사하기 위해 150명을 랜덤하게 선택하여 흡연여부를 조사하였다. 이 중 48명이 흡연을 하고 있었다. 이 대학교 1학년생의 흡연율의 평균을 점추정하시오.\"\n",
    "    \n",
    "    - 풀이\n",
    "        - $n = 150, X =48$\n",
    "        - $\\hat {p} = \\frac {X} {n} = \\frac {48} {150} = 0.32$\n",
    "        - 평균흡연율 $32\\%$ 추정."
   ]
  },
  {
   "cell_type": "markdown",
   "metadata": {},
   "source": [
    "(2)-2. 구간 추정\n",
    "- n이 충분히 클 때: $n \\hat {p} > 5, n(1-\\hat {p}) > 5$일 때를 의미\n",
    "    - $X \\sim N(np, np(1-p))$\n",
    "\n",
    "\n",
    "\n",
    "- 확률변수 $X$의 표준화\n",
    "    - $Z = \\frac {X-np} {\\sqrt {n\\hat {p}(1-\\hat {p})}} = \\frac {\\hat {p} - p} {\\sqrt \\frac {\\hat {p}(1-\\hat {p})} {n}}$\n",
    "    - 근사적으로 표준정규분포 $N(0, 1)를 따름$\n",
    "    \n",
    "    \n",
    "- $P(|Z| \\leq z_{\\alpha/2})=1-\\alpha$\n",
    "    - $P(-z_{\\alpha/2} \\leq Z \\leq z_{\\alpha/2}) = P(-z_{\\alpha/2} \\leq \\frac {\\hat {p} - p} {\\sqrt \\frac {\\hat {p}(1-\\hat {p})} {n}} \\leq z_{\\alpha/2}) = P(\\hat {p} - z_{\\alpha/2}\\sqrt \\frac {\\hat {p}(1-\\hat {p})} {n}, \\hat {p} + z_{\\alpha/2}\\sqrt \\frac {\\hat {p}(1-\\hat {p})} {n}) = 1 - \\alpha$\n",
    "    - 모비율  $p$의 $100(1-\\alpha)\\%$ 신뢰구간(confidence interval)\n",
    "        - $\\left( \\hat {p} - z_{\\alpha/2}\\sqrt \\frac {\\hat {p}(1-\\hat {p})} {n}, \\hat {p} + z_{\\alpha/2}\\sqrt \\frac {\\hat {p}(1-\\hat {p})} {n} \\right)$"
   ]
  },
  {
   "cell_type": "markdown",
   "metadata": {},
   "source": [
    "- 구간 추정 예제\n",
    "    - \"대학교 1학년생의 흡연율을 조사하기 위해 150명을 랜덤하게 선택하여 흡연여부를 조사하였다. 이 중 48이 흡연을 하고 있었다. 흡연율 p의 95% 신뢰구간을 구하시오.\"\n",
    "    - 풀이\n",
    "        - $\\alpha = 0.05, z_{\\alpha/2} = z_{0.025} = 1.96, \\hat {p} = 0.32$\n",
    "        - $\\sqrt \\frac {\\hat {p}(1-\\hat {p})} {n} = \\sqrt \\frac {(0.32)(0.68)} {150} = 0.038$\n",
    "        - $(0.32 - 1.96 \\times 0.038, 0.32 + 1.96 \\times 0.038) = (0.245, 0.395)$"
   ]
  },
  {
   "cell_type": "code",
   "execution_count": 5,
   "metadata": {},
   "outputs": [
    {
     "name": "stdout",
     "output_type": "stream",
     "text": [
      "phat:  0.320, zalpha:  1.960, sd:  0.038\n",
      "ci: [0.24534963990338954, 0.3946503600966105]\n"
     ]
    }
   ],
   "source": [
    "import numpy as np\n",
    "import scipy.stats\n",
    "\n",
    "\n",
    "x = 48\n",
    "n = 150\n",
    "phat = x/n\n",
    "alpha = 0.05\n",
    "zalpha = scipy.stats.norm.ppf(1-alpha/2)\n",
    "sd = np.sqrt(phat*(1-phat)/n)\n",
    "print(f'phat: {phat: .3f}, zalpha: {zalpha: .3f}, sd: {sd: .3f}')\n",
    "ci = [phat - zalpha * sd, phat + zalpha * sd]\n",
    "print(f'ci: {ci}')"
   ]
  }
 ],
 "metadata": {
  "kernelspec": {
   "display_name": "Python 3",
   "language": "python",
   "name": "python3"
  },
  "language_info": {
   "codemirror_mode": {
    "name": "ipython",
    "version": 3
   },
   "file_extension": ".py",
   "mimetype": "text/x-python",
   "name": "python",
   "nbconvert_exporter": "python",
   "pygments_lexer": "ipython3",
   "version": "3.8.5"
  }
 },
 "nbformat": 4,
 "nbformat_minor": 4
}

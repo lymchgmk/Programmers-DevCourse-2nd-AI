{
 "cells": [
  {
   "cell_type": "markdown",
   "metadata": {},
   "source": [
    "# 15강. 표본분포"
   ]
  },
  {
   "cell_type": "markdown",
   "metadata": {},
   "source": [
    "## 이론"
   ]
  },
  {
   "cell_type": "markdown",
   "metadata": {},
   "source": [
    "- 통계적 추론\n",
    "> 표본 조사를 통해 모집단에 대한 해석을 진행\n",
    "\n",
    "   - 전수조사는 실질적으로 불가능.\n",
    "   - 표본조사는 반드시 오차가 발생.\n",
    "       - 따라서, 적절한 표본 추출 방법 필요\n",
    "           - 표본과 모집단의 관계를 이해해야 함."
   ]
  },
  {
   "cell_type": "markdown",
   "metadata": {},
   "source": [
    "(1) 표본 추출 방법\n",
    "   1. 단순랜덤추출법(random sampling)\n",
    "       - 난수표 사용\n",
    "       - 랜덤넘버 생성기 사용"
   ]
  },
  {
   "cell_type": "code",
   "execution_count": 5,
   "metadata": {},
   "outputs": [
    {
     "data": {
      "text/plain": [
       "[61, 97, 74, 94, 82, 34, 22, 61, 94, 1, 8, 51, 57, 61, 72, 74, 92, 100, 51, 39]"
      ]
     },
     "execution_count": 5,
     "metadata": {},
     "output_type": "execute_result"
    }
   ],
   "source": [
    "import random\n",
    "[random.randint(1, 100) for _ in range(20)]"
   ]
  },
  {
   "cell_type": "markdown",
   "metadata": {},
   "source": [
    "(2) 표본 분포(sampling distribution)\n",
    "> **통계량**의 확률분포\n",
    "\n",
    "\n",
    "- 표본조사를 통해 파악하고자 하는 정보, 모수(parameter)\n",
    "- 모수의 종류: 모평균, 모분산, 모비율 등\n",
    "    - 모수를 추정하기 위해 표본을 선택하여 표본 평균이나 표본 분산등을 계산.\n",
    "    \n",
    "    \n",
    "- **통계량(statistic)**: 표본 평균이나 표본 분산과 같은 표본의 특성값\n",
    "\n",
    "\n",
    "- 표본의 평균은 표본의 선택에 따라 달라지는 확률변수\n",
    "    - 즉, 표본 평균이 가질 수 있는 값도 하나의 확률분포를 가지며, 그 분포가 무엇인지가 표본을 해석하는데 매우 중요.\n",
    "    \n",
    "    \n",
    "(2)-1. 모평균\n",
    "- 표본 평균: 모평균을 알아내는데 쓰이는 통계량\n",
    "    - 평균이 $\\mu$, 분산이 $\\sigma^{2}$인 **정규모집단**에서 추출된 표본의 측정값에 대해,\n",
    "    > $$\\bar{x} = \\frac {1} {n} \\sum_{i=1} {n} x_{i}$$\n",
    "    > $$\\bar{X} \\sim N \\left ( \\mu, \\frac {\\sigma^{2}} {n} \\right)$$"
   ]
  },
  {
   "cell_type": "code",
   "execution_count": 10,
   "metadata": {},
   "outputs": [
    {
     "name": "stdout",
     "output_type": "stream",
     "text": [
      "mean -0.003076, var 0.099339\n"
     ]
    }
   ],
   "source": [
    "# 뮤=1, 시그마=1, n=10\n",
    "# Var(X bar) = 1/10\n",
    "\n",
    "import numpy as np\n",
    "\n",
    "\n",
    "xbars = [np.mean(np.random.normal(size=10)) for i in range(10000)]\n",
    "# 분산 var이 약 0.1\n",
    "print('mean %f, var %f' %(np.mean(xbars), np.var(xbars)))"
   ]
  },
  {
   "cell_type": "code",
   "execution_count": 20,
   "metadata": {},
   "outputs": [
    {
     "name": "stdout",
     "output_type": "stream",
     "text": [
      "mean 10.002888 var 0.923728\n"
     ]
    },
    {
     "data": {
      "image/png": "[encoded data removed]",
      "text/plain": [
       "<Figure size 432x288 with 1 Axes>"
      ]
     },
     "metadata": {
      "needs_background": "light"
     },
     "output_type": "display_data"
    }
   ],
   "source": [
    "# 뮤=10, 시그마=3, n=10\n",
    "\n",
    "import matplotlib as plt\n",
    "\n",
    "\n",
    "xbars = [np.mean(np.random.normal(loc=10, scale=3, size=10)) for i in range(10000)]\n",
    "# 분산 var이 약 0.9\n",
    "print('mean %f var %f' %(np.mean(xbars), np.var(xbars)))\n",
    "h = plt.pyplot.hist(xbars, range=(5, 15), bins=30)"
   ]
  },
  {
   "cell_type": "markdown",
   "metadata": {},
   "source": [
    "(3) 중심극한정리 (central limit theorem)\n",
    "\n",
    "> 표본의 크기가 커질수록 표본 평균의 분포는 모집단의 분포 모양과 관계없이 정규 분포에 가까워진다.\n",
    "> 이 때, 표본 평균의 평균은 모집단의 모평균과 같고, 표본 평균의 표준 편차는 모집단의 모표준편차를 표본 크기의 제곱근으로 나눈 것과 같다.\n",
    "\n",
    "- 평균이 $\\mu$, 분산이 $\\sigma^{2}$인 **~~정규~~모집단**에서 추출된 표본의 측정값에 대해,\n",
    "    > $$\\bar{x} = \\frac {1} {n} \\sum_{i=1} {n} x_{i}$$\n",
    "    > $N$이 충분히 큰 경우 $(N \\geq 30)$, 근사적으로 $\\bar{X} \\sim N \\left ( \\mu, \\frac {\\sigma^{2}} {n} \\right)$"
   ]
  },
  {
   "cell_type": "code",
   "execution_count": 22,
   "metadata": {},
   "outputs": [
    {
     "name": "stdout",
     "output_type": "stream",
     "text": [
      "mean 5.015298, var 2.732242\n"
     ]
    },
    {
     "data": {
      "image/png": "[encoded data removed]",
      "text/plain": [
       "<Figure size 432x288 with 1 Axes>"
      ]
     },
     "metadata": {
      "needs_background": "light"
     },
     "output_type": "display_data"
    }
   ],
   "source": [
    "# Uniform distribution\n",
    "# E(X) = 5, Var(X) = (10 - 0)^2 / 12 = 8.3\n",
    "\n",
    "import numpy as np\n",
    "import matplotlib as plt\n",
    "\n",
    "\n",
    "n = 3\n",
    "xbars = [np.mean(np.random.rand(n) * 10) for i in range(10000)]\n",
    "print('mean %f, var %f' %(np.mean(xbars), np.var(xbars)))\n",
    "h = plt.pyplot.hist(xbars, range=(0, 10), bins=100)"
   ]
  },
  {
   "cell_type": "code",
   "execution_count": 35,
   "metadata": {},
   "outputs": [
    {
     "name": "stdout",
     "output_type": "stream",
     "text": [
      "mean 3.0038345959390784, var 4.491351806628889\n"
     ]
    },
    {
     "data": {
      "image/png": "[encoded data removed]",
      "text/plain": [
       "<Figure size 432x288 with 1 Axes>"
      ]
     },
     "metadata": {
      "needs_background": "light"
     },
     "output_type": "display_data"
    }
   ],
   "source": [
    "# Exponential distribution\n",
    "# lambda=1/3, E(X) = 1/lambda = 3, Var(X) = 1/(lambda^2) = 9\n",
    "\n",
    "\n",
    "import numpy as np\n",
    "import matplotlib as plt\n",
    "\n",
    "\n",
    "# n이 증가할수록 중심극한정리에 따라 정규분포에 가까워짐 (좌우대칭)\n",
    "n = 2\n",
    "xbars = [np.mean(np.random.exponential(scale=3, size=n)) for _ in range(10000)]\n",
    "# 분산 var이 4.5 정도\n",
    "print(f'mean {np.mean(xbars)}, var {np.var(xbars)}')\n",
    "h = plt.pyplot.hist(xbars, range=(0, 10), bins=100)"
   ]
  },
  {
   "cell_type": "code",
   "execution_count": 33,
   "metadata": {},
   "outputs": [
    {
     "name": "stdout",
     "output_type": "stream",
     "text": [
      "mean 3.004051261493384, var 0.901772757076917\n"
     ]
    },
    {
     "data": {
      "image/png": "[encoded data removed]",
      "text/plain": [
       "<Figure size 432x288 with 1 Axes>"
      ]
     },
     "metadata": {
      "needs_background": "light"
     },
     "output_type": "display_data"
    }
   ],
   "source": [
    "n = 10\n",
    "xbars = [np.mean(np.random.exponential(scale=3, size=n)) for _ in range(10000)]\n",
    "# 분산 var이 4.5 정도\n",
    "print(f'mean {np.mean(xbars)}, var {np.var(xbars)}')\n",
    "h = plt.pyplot.hist(xbars, range=(0, 10), bins=100)"
   ]
  },
  {
   "cell_type": "code",
   "execution_count": 34,
   "metadata": {},
   "outputs": [
    {
     "name": "stdout",
     "output_type": "stream",
     "text": [
      "mean 2.998437017471991, var 0.2949356650103808\n"
     ]
    },
    {
     "data": {
      "image/png": "[encoded data removed]",
      "text/plain": [
       "<Figure size 432x288 with 1 Axes>"
      ]
     },
     "metadata": {
      "needs_background": "light"
     },
     "output_type": "display_data"
    }
   ],
   "source": [
    "n = 30\n",
    "xbars = [np.mean(np.random.exponential(scale=3, size=n)) for _ in range(10000)]\n",
    "# 분산 var이 4.5 정도\n",
    "print(f'mean {np.mean(xbars)}, var {np.var(xbars)}')\n",
    "h = plt.pyplot.hist(xbars, range=(0, 10), bins=100)"
   ]
  }
 ],
 "metadata": {
  "kernelspec": {
   "display_name": "Python 3",
   "language": "python",
   "name": "python3"
  },
  "language_info": {
   "codemirror_mode": {
    "name": "ipython",
    "version": 3
   },
   "file_extension": ".py",
   "mimetype": "text/x-python",
   "name": "python",
   "nbconvert_exporter": "python",
   "pygments_lexer": "ipython3",
   "version": "3.8.5"
  }
 },
 "nbformat": 4,
 "nbformat_minor": 4
}

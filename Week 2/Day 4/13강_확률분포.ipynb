{
 "cells": [
  {
   "cell_type": "markdown",
   "metadata": {},
   "source": [
    "# 13강. 확률분포"
   ]
  },
  {
   "cell_type": "markdown",
   "metadata": {},
   "source": [
    "## 이론"
   ]
  },
  {
   "cell_type": "markdown",
   "metadata": {},
   "source": [
    "(1) 확률 변수(random variable)\n",
    "> 랜덤한 실험 결과에 의존하는 실수. 즉, 표본 공간의 부분 집합에 대응하는 실수.\n",
    "\n",
    "- 보통 표본 공간에서 실수로 대응되는 함수로 정의.\n",
    "    - $X$나 $Y$같은 대문자로 표시.\n",
    "    \n",
    "    \n",
    "1. 이산확률변수(discrete random variable): 주사위, 동전과 같이 확률변수가 취할 수 있는 모든 수 값들을 하나씩 셀 수 있는 경우.\n",
    "\n",
    "2. 연속확률변수(continuous random variable): 셀 수 없는 경우."
   ]
  },
  {
   "cell_type": "markdown",
   "metadata": {},
   "source": [
    "(2) 확률 분포(Probability Distribution)\n",
    "> 확률변수가 가질 수 있는 값에 대해 확률을 대응시켜주는 관계\n",
    "> $$P(X = x)$$\n",
    "\n",
    "- 확률 분표의 표현: 표, 그래프, 함수 등 다양함.\n",
    "- 확률 변수 $X$도 평균과 분산을 가짐.\n",
    "    - 모집단의 평균과 분산이라 할 수 있음."
   ]
  },
  {
   "cell_type": "markdown",
   "metadata": {},
   "source": [
    "(3). 이산확률변수의 확률\n",
    "   1. 확률 분포\n",
    "       - 보통 함수로 주어짐\n",
    "       - 확률변수 $X$가 x라는 값을 가질 확률\n",
    "           - 확률질량함수 $f(x) = P(X = x)$\n",
    "           \n",
    "           \n",
    "   2. 평균($\\mu, E$)\n",
    "       - $E(X) = \\sum_{x}xP(X = x) = \\sum_{x}xf(x)$\n",
    "       - 기대값(expected value)라고도 함.\n",
    "   \n",
    "   \n",
    "   3. 분산($\\sigma^{2}, V$)\n",
    "       - $\\sigma^{2} = \\frac {1} {N} \\sum_{i=1}^{N} (x_{i} - \\mu)^{2} = E[(X - \\mu)^{2}] = \\sum_x(x - \\mu)^2 P(X = x)$\n",
    "       - 실험을 할 때마다 확률변수의 값이 달라질 수 있고, 따라서 그 변동의 정도인 분산을 계산할 수 있음.\n",
    "       - $(X - \\mu)^{2}$의 평균과 같음.\n",
    "       - $Var(X)$라고도 함.\n",
    "   \n",
    "   \n",
    "   4. 표준편차($\\sigma$)\n",
    "       - 분산의 양의 제곱근\n",
    "       - $SD(X)$라고도 함\n",
    "       "
   ]
  },
  {
   "cell_type": "markdown",
   "metadata": {},
   "source": [
    "(3)-1. 이산확률변수의 간편식\n",
    "   - 분산($V, \\sigma^{2}$)\n",
    "   > $$\\sigma^{2} = E(X^{2}) - \\{E(X)\\}^{2}$$"
   ]
  },
  {
   "cell_type": "markdown",
   "metadata": {},
   "source": [
    "(4) 결합확률분포(joint probability distribution)\n",
    "> 두 개 이상의 확률 변수가 동시에 취하는 값들에 대해 확률을 대응시켜주는 관계.\n",
    "\n",
    "- 주변확률분포(marginal probability distribution): 결합확률분포를 통해 각 확률변수의 확률분포를 도출 할 수 있음."
   ]
  },
  {
   "cell_type": "markdown",
   "metadata": {},
   "source": [
    "(4)-1. 공분산(Covariance)\n",
    "> 확률변수 $X$, $Y$, $Z$에 대해 $(X - \\mu_{X})(Y - \\mu_{Y})$와 $(X - \\mu_{X})(Z - \\mu_{Z})$는 각각 확률변수이며, 따라서 평균과 분산을 구할 수 있음.\n",
    "\n",
    "- 확률변수 $X$, $Y$의 평균인 공분산 $Cov$\n",
    "   - $Cov(X, Y) = E[(X - \\mu_{X})(Y - \\mu_{Y})] = E(XY) - \\mu_{X}\\mu_{Y} = E(XY) - E(X)E(Y)$"
   ]
  },
  {
   "cell_type": "markdown",
   "metadata": {},
   "source": [
    "(4)-2. 상관계수($\\rho$, Correlation coefficient)\n",
    "> $$\\rho = Corr(X, Y) = \\frac {Cov(X, Y)} {\\sigma_{X} \\sigma_{Y}}$$\n",
    "- 공분산은 각 확률 변수의 절대적인 크기에 영향을 받기 때문에, 단위에 의한 영향을 없애기 위해 사용."
   ]
  }
 ],
 "metadata": {
  "kernelspec": {
   "display_name": "Python 3",
   "language": "python",
   "name": "python3"
  },
  "language_info": {
   "codemirror_mode": {
    "name": "ipython",
    "version": 3
   },
   "file_extension": ".py",
   "mimetype": "text/x-python",
   "name": "python",
   "nbconvert_exporter": "python",
   "pygments_lexer": "ipython3",
   "version": "3.8.5"
  }
 },
 "nbformat": 4,
 "nbformat_minor": 4
}

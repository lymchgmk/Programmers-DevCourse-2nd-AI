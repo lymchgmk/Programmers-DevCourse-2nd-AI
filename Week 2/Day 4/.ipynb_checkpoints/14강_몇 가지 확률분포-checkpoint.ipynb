{
 "cells": [
  {
   "cell_type": "markdown",
   "metadata": {},
   "source": [
    "# 14강. 몇 가지 확률분포"
   ]
  },
  {
   "cell_type": "markdown",
   "metadata": {},
   "source": [
    "## 이론"
   ]
  },
  {
   "cell_type": "markdown",
   "metadata": {},
   "source": [
    "(1) 이항분포\n",
    "- 베르누이 시행(Bernoulli trial): 동전 던지기와 같이 정확하게 2개의 결과만을 가지는 실험\n",
    "    - 보통 성공과 실패로 결과를 구분\n",
    "    - 성공 확률 $p$에 대해 논함.\n",
    "        \n",
    "        \n",
    "- 확률변수 X\n",
    "   - $n$번의 베르누이 시행에서 성공의 횟수\n",
    "   - 이항확률변수라고 함\n",
    "\n",
    "\n",
    "- 이항분포(binomial distribution)\n",
    "   - 이항확률변수 $X$의 확률분포\n",
    "   - $f(x) = P[X = x] = \\begin{pmatrix}\n",
    "n \\\\ \n",
    "x\n",
    "\\end{pmatrix}p^{x}(1-p)^{n-x}$"
   ]
  },
  {
   "cell_type": "code",
   "execution_count": 1,
   "metadata": {},
   "outputs": [
    {
     "data": {
      "text/plain": [
       "0.4879999999999999"
      ]
     },
     "execution_count": 1,
     "metadata": {},
     "output_type": "execute_result"
    }
   ],
   "source": [
    "from scipy import stats\n",
    "1 - stats.binom.cdf(0, n=3, p=0.2)"
   ]
  },
  {
   "cell_type": "markdown",
   "metadata": {},
   "source": [
    "- 이항분포의 계산\n",
    "    1. 평균: $E(X) = np$\n",
    "    \n",
    "    2. 분산: $Var(X) = np(1-p)$\n",
    "    \n",
    "    3. 표준편차: $SD(X) = \\sqrt {np(1-p)}$"
   ]
  },
  {
   "cell_type": "code",
   "execution_count": 3,
   "metadata": {},
   "outputs": [
    {
     "data": {
      "text/plain": [
       "(array(0.6), array(0.48))"
      ]
     },
     "execution_count": 3,
     "metadata": {},
     "output_type": "execute_result"
    }
   ],
   "source": [
    "# 평균, 분산\n",
    "stats.binom.stats(n=3, p=0.2)"
   ]
  },
  {
   "cell_type": "markdown",
   "metadata": {},
   "source": [
    "(2) 정규분포\n",
    "> 연속확률변수의 확률 분포\n",
    "\n",
    "- 확률밀도함수(probability density function): $f(x)$\n",
    "    - 그래프 아래의 부분의 넓이를 적분해서 확률을 구함.\n",
    "    - $P[a \\leq X \\leq b]= \\int_{a}^{b}f(x)dx$\n",
    "    \n",
    "    \n",
    "- ***정규분포의 확률밀도함수***\n",
    "    - $f(x) = \\frac {1} {\\sqrt{2 \\pi} \\sigma} e^{- \\frac {1} {2} \\left( \\frac {x- \\mu} {\\sigma}\\right)^{2}}$\n",
    "        - $X$~$N(\\mu, \\sigma^{2})$\n",
    "        - 적분 불가 함수\n",
    "        \n",
    "- 표준정규확률변수(standard normal random variable)\n",
    "> $$Z = \\frac {X - \\mu} {\\sigma}$$\n",
    "\n",
    "\n",
    "- 표준정규분포(standard normal distribution)\n",
    "    - $Z$~$N(0, 1)$, 즉, $\\mu = 0$ and $\\sigma = 1$인 정규분포\n",
    "    - 표준정규분포표\n",
    "        - $P[Z \\leq z]$\n",
    "\n",
    "\n",
    "\n",
    "(2)-1. 예제\n",
    "   - $X$~$N(4, 3^{2})$ 인 경우\n",
    "       - $P[X \\leq 4]= P \\left[ \\frac{X-\\mu} {\\sigma} \\leq \\frac{4 - \\mu} {\\sigma} \\right ] = P \\left [Z \\leq \\frac {4 - \\mu} {3} \\right ] = P[Z \\leq 0] = 0.5$"
   ]
  },
  {
   "cell_type": "code",
   "execution_count": 5,
   "metadata": {},
   "outputs": [
    {
     "data": {
      "text/plain": [
       "0.5"
      ]
     },
     "execution_count": 5,
     "metadata": {},
     "output_type": "execute_result"
    }
   ],
   "source": [
    "# X~N(4, 3^2)일 때, P[X<=4]\n",
    "stats.norm.cdf(4, loc=4, scale=3)"
   ]
  },
  {
   "cell_type": "markdown",
   "metadata": {},
   "source": [
    "   - $X$~$N(4, 3^{2})$ 인 경우\n",
    "       - $P[4 \\leq X \\leq 7]= P[X \\leq 7] - P[X < 4] = P \\left [Z \\leq \\frac {7 - 4} {3} \\right ] - P[Z < 0] = P[Z \\leq 1] - P[Z < 0] = 0.8413 - 0.5 = 0.3413$"
   ]
  },
  {
   "cell_type": "code",
   "execution_count": 7,
   "metadata": {},
   "outputs": [
    {
     "data": {
      "text/plain": [
       "0.3413447460685429"
      ]
     },
     "execution_count": 7,
     "metadata": {},
     "output_type": "execute_result"
    }
   ],
   "source": [
    "# X~N(4, 3^2)일 때, P[4<=X<=7]\n",
    "stats.norm.cdf(7, loc=4, scale=3) - stats.norm.cdf(4, loc=4, scale=3)"
   ]
  },
  {
   "cell_type": "markdown",
   "metadata": {},
   "source": [
    "(3) 포아송 분포(Poisson distribution)\n",
    "> 일정한 시간 단위 또는 공간 단위에서 발생하는 이벤트 수의 확률분포\n",
    "\n",
    "- 포아송 분포의 확률분포함수(확률질량함수)\n",
    "    - $P[X = x] = f(x) = \\lambda^{x} \\frac {e^{-\\lambda}} {x!}, x = 0, 1, 2, \\dots$\n",
    "        - 평균: $\\lambda$\n",
    "        - 분산: $\\lambda$"
   ]
  },
  {
   "cell_type": "markdown",
   "metadata": {},
   "source": [
    "(3)-1. 예제\n",
    "\n",
    "- 어느 웹사이트의 시간당 접속자 수가 평균이 3인 포아송 분포를 따를 때, 앞으로 1시간 동안 접속자 수가 2명 이하일 확률은?\n",
    "    - $P[X \\leq 2] = P[X = 0] + P[X = 1] + P[X = 2] = 3^{0} \\frac {e^{-3}} {0!} + 3^{1} \\frac {e^{-3}} {1!} + 3^{2} \\frac {e^{-3}} {2!} = 0.04998 + 0.14936 + 0.22404 = 0.42319$"
   ]
  },
  {
   "cell_type": "code",
   "execution_count": 11,
   "metadata": {},
   "outputs": [
    {
     "data": {
      "text/plain": [
       "0.42319008112684364"
      ]
     },
     "execution_count": 11,
     "metadata": {},
     "output_type": "execute_result"
    }
   ],
   "source": [
    "# P[X <= 2]\n",
    "\n",
    "stats.poisson.cdf(2, mu=3)"
   ]
  },
  {
   "cell_type": "markdown",
   "metadata": {},
   "source": [
    "(4) 지수분포(exponential distribution)\n",
    "> 포아송 분포에 의해 어떤 사건이 발생할 떄, 어느 한 시점으로부터 이 사건이 발생할 때까지 ***걸리는 시간***에 대한 확률 분포.\n",
    "\n",
    "- 지수분포의 확률밀도함수\n",
    "    - $f(t) = \\lambda e^{-\\lambda t}$\n",
    "        - $\\lambda$: 포아송분포의 평균\n",
    "        - 평균: $E(T) = \\frac {1} {\\lambda}$\n",
    "        - 분산: $Var(T) = \\frac {1} {\\lambda^{2}}$"
   ]
  },
  {
   "cell_type": "markdown",
   "metadata": {},
   "source": [
    "(4)-1. 예제\n",
    "- 어느 웹사이트에 시간당 접속자 수가 평균이 3인 포아송 분포을 따를 때, 지금부터 시작하여 첫 번째 접속자가 30분 이내에 올 확률은?\n",
    "    - $P[T \\leq 0.5] = \\int_{0}^{0.5} \\lambda e^{-\\lambda t}dt = \\int_{0}^{0.5} 3e^{-3t}dt = [-e^{-3t}]_{0}^{0.5} = 1 - e^{-1.5} = 1 - 0.2231 = 0.7769$"
   ]
  },
  {
   "cell_type": "code",
   "execution_count": 14,
   "metadata": {},
   "outputs": [
    {
     "data": {
      "text/plain": [
       "0.7768698398515702"
      ]
     },
     "execution_count": 14,
     "metadata": {},
     "output_type": "execute_result"
    }
   ],
   "source": [
    "# P[T <=0.5]\n",
    "lmbd=3\n",
    "stats.expon.cdf(0.5, scale=1/lmbd)"
   ]
  }
 ],
 "metadata": {
  "kernelspec": {
   "display_name": "Python 3",
   "language": "python",
   "name": "python3"
  },
  "language_info": {
   "codemirror_mode": {
    "name": "ipython",
    "version": 3
   },
   "file_extension": ".py",
   "mimetype": "text/x-python",
   "name": "python",
   "nbconvert_exporter": "python",
   "pygments_lexer": "ipython3",
   "version": "3.8.5"
  }
 },
 "nbformat": 4,
 "nbformat_minor": 4
}

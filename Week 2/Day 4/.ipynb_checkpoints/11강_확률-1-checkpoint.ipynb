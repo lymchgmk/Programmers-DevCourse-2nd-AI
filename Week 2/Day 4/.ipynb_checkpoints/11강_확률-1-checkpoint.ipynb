{
 "cells": [
  {
   "cell_type": "markdown",
   "metadata": {},
   "source": [
    "# 11강. 확률-1"
   ]
  },
  {
   "cell_type": "markdown",
   "metadata": {},
   "source": [
    "## 이론"
   ]
  },
  {
   "cell_type": "markdown",
   "metadata": {},
   "source": [
    "(1) 확률 $P(A)$\n",
    "> 1. 고전적 정의: 표본공간의 모든 원소가 일어날 가능성이 같다고 가정한 정의.\n",
    "    - 이는 현실에서 성립 안되는 경우가 있음.\n",
    "    \n",
    "> 2. 상대도수적 정의: 같은 조건하에서 통계적 실험을 수없이 많이 반복시행했을 때, 사건 A가 발생하는 비율(즉, 상대도수).\n",
    "    - 고전적 정의의, 표본공간의 각 원소가 발생할 가능성이 같다는 가정을 해결.\n",
    "\n",
    "\n",
    "- 표본공간(sample space): 모든 가능한 실험결과들의 집합\n",
    "- 사건: 관심있는 실험결과들의 집합\n",
    "    - 사건은 표본 공간의 부분집합\n",
    "- 어떤 사건이 일어날 확률\n",
    "    - 표본공간의 모든 원소가 일어날 확률이 같은 경우: 사건의 원소의 수 / 표본공간의 원소의 수\n",
    "\n",
    "\n",
    "(1)-1. 고전적 확률\n",
    "    - 표본공간과 사건의 원소의 수를 세어야 함.\n",
    "    - 따라서, 경우의 수를 쉽게 셀 수 있는 방법인 **조합(combination)**을 사용.\n",
    "    \n",
    "    \n",
    "   - 조합(combination): 어떤 집합에서 순서에 상관없이 뽑은 원소의 집합\n",
    "        - $n$개 중 $r$개를 뽑는 조합의 수: $_{n}C_{r}$, $\\begin{pmatrix}\n",
    "n\\\\ \n",
    "r\n",
    "\\end{pmatrix}$"
   ]
  },
  {
   "cell_type": "markdown",
   "metadata": {},
   "source": [
    "(2) 확률 계산\n",
    "\n",
    "\n",
    "1. 덧셈 법칙(Addition Law)\n",
    "> $$P(A \\cup B) = P(A) + P(B) - P(A \\cap B)$$\n",
    "\n",
    "\n",
    "2. 곱셈 법칙\n",
    "> $$P(A \\cap B) = P(B|A)P(A)$$\n",
    "\n",
    "\n",
    "3. 서로 배반(Mutually Exclusive)\n",
    "> 두 사건의 교집합이 공집합일 경우\n",
    "\n",
    "\n",
    "4. 서로 독립\n",
    "> $P(A \\cap B) = P(B)$인 경우, 사건 A와 B는 서로 독립.\n",
    "> $$P(A \\cap B) = P(B|A)P(A) = P(B)P(A) =P(A)P(B)$$\n",
    "\n",
    "\n",
    "5. 조건부 확률(Conditional probability)\n",
    "> 어떤 사건 A가 일어났을 때, 다른 사건 B가 일어날 확률\n",
    "> $$P(B|A) = \\frac {P(A \\cap B)} {P(A)}, (단, P(A) > 0)$$\n",
    "    - 표본 공간의 변화가 일어나는 경우\n",
    "\n"
   ]
  }
 ],
 "metadata": {
  "kernelspec": {
   "display_name": "Python 3",
   "language": "python",
   "name": "python3"
  },
  "language_info": {
   "codemirror_mode": {
    "name": "ipython",
    "version": 3
   },
   "file_extension": ".py",
   "mimetype": "text/x-python",
   "name": "python",
   "nbconvert_exporter": "python",
   "pygments_lexer": "ipython3",
   "version": "3.8.5"
  }
 },
 "nbformat": 4,
 "nbformat_minor": 4
}

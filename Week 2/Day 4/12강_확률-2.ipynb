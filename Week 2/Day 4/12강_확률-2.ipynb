{
 "cells": [
  {
   "cell_type": "markdown",
   "metadata": {},
   "source": [
    "# 12강. 확률-2"
   ]
  },
  {
   "cell_type": "markdown",
   "metadata": {},
   "source": [
    "## 이론"
   ]
  },
  {
   "cell_type": "markdown",
   "metadata": {},
   "source": [
    "(3) 여사건\n",
    "> 사건 A의 여사건 = 사건 A가 일어나지 않는 사건 = $A^{c}$\n",
    "\n",
    "\n",
    "- 어떤 사건과 그 여사건은 서로 배반\n",
    "    - 둘 중 하나는 반드시 일어남\n",
    "    - $P(A \\cup A^{c}) = P(A) + P(A^{c}) = 1$\n",
    "    - $P(A) = 1- P(A^{c})$"
   ]
  },
  {
   "cell_type": "markdown",
   "metadata": {},
   "source": [
    "(4) 확률의 분할 법칙\n",
    "- 사건 B에 대하여, $B = (A \\cap B) \\cup (A^{c} \\cap B)$\n",
    "    - $(A \\cap B)$와 $(A^{c} \\cap B)$는 서로 배반\n",
    "        - 따라서, $P(B) = P[(A \\cap B) \\cup (A^{c} \\cap B)] = P(A \\cap B) + P(A^{c} \\cap B) = P(B|A)P(A) + P(B|A^{c})P(A^{c})$"
   ]
  },
  {
   "cell_type": "markdown",
   "metadata": {},
   "source": [
    "(5) 베이즈 정리\n",
    "> 어떤 사건이 서로 배반하는 원인 둘에 의해 일어난다고 할 때, 실제 사건이 일어났을 때 이것이 두 원인 중 하나일 확률을 구하는 정리.\n",
    "\n",
    "> $P(A|B) = \\frac {P(A \\cap B)} {P(B)} = \\frac {P(B|A)P(A)} {P(B|A)P(A) + P(B|A^{c})P(A^{c})}$\n",
    "\n",
    "- 처음의 확률(사전확률, prior probability)이 추가 정보로 인해 수정된 확률(사후확률, posterior probability)이 됨."
   ]
  }
 ],
 "metadata": {
  "kernelspec": {
   "display_name": "Python 3",
   "language": "python",
   "name": "python3"
  },
  "language_info": {
   "codemirror_mode": {
    "name": "ipython",
    "version": 3
   },
   "file_extension": ".py",
   "mimetype": "text/x-python",
   "name": "python",
   "nbconvert_exporter": "python",
   "pygments_lexer": "ipython3",
   "version": "3.8.5"
  }
 },
 "nbformat": 4,
 "nbformat_minor": 4
}

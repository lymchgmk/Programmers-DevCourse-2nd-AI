{
 "cells": [
  {
   "cell_type": "markdown",
   "metadata": {},
   "source": [
    "# 2강. 가우스 소거법"
   ]
  },
  {
   "cell_type": "markdown",
   "metadata": {},
   "source": [
    "## 이론"
   ]
  },
  {
   "cell_type": "markdown",
   "metadata": {},
   "source": [
    "- Linear equation(선형방정식) ax=b 문제의 해\n",
    "    1. 해가 하나인 경우(unique solution)\n",
    "    2. 해가 없는 경우(no solution)\n",
    "    3. 해가 여러개인 경우(infinitely many solutions)"
   ]
  },
  {
   "cell_type": "markdown",
   "metadata": {},
   "source": [
    "- a = 0 이면 ***특이(singular)***한 경우가 된다.\n",
    "    - ax = b의 해가 곧장 나오지 않음.\n",
    "    - ***특이(singular)*** : a가 역수가 존재하지 않는 경우."
   ]
  },
  {
   "cell_type": "markdown",
   "metadata": {},
   "source": [
    "- 해가 있으면 선형시스템이 *consistent*하다고 한다.\n",
    "- 해가 없으면 선형시스템이 *inconsistent*하다고 한다.\n",
    "    - 해가 하나인 경우, 해가 여러개인 경우는 consistent\n",
    "    - 해가 없는 경우, inconsistent"
   ]
  },
  {
   "cell_type": "markdown",
   "metadata": {},
   "source": [
    "- Linear system(선형시스템) Ax=b 역시 마찬가지.\n",
    "    - A의 역행렬(inverse matrix)가 존재하지 않는 경우, A가 ***특이(singular)***하다고 한다.\n",
    "        - 해가 있으면 선형시스템이 consistent\n",
    "        - 해가 없으면 선형시스템이 inconsistent\n",
    "---"
   ]
  },
  {
   "cell_type": "markdown",
   "metadata": {},
   "source": [
    "- Gauss elimination(가우스 소거법)\n",
    "    > Gauss elimination은 임의의 m x n 선형시스템의 해를 구하는 가장 대표적인 방법\n",
    "    \n",
    "    1. **Forward elimination(전방소거법)**: 주어진 선형시스템을 아래로 갈 수록 더 단순한 형태의 선형방정식을 가지도록 변형한다.\n",
    "    2. Back-substitution(후방대입법): 아래에서부터 위로 미지수를 실제값으로 대체한다.\n",
    "    "
   ]
  },
  {
   "cell_type": "markdown",
   "metadata": {},
   "source": [
    "1) **Forward elimination(전방소거법)**\n",
    "- 아래로 갈 수록 더 단순한 형태의 선형방정식을 가지도록 변형, 특히 마지막 행은 초등 교과 수준의 가장 단순한 선형방정식이 나오도록 배치."
   ]
  },
  {
   "cell_type": "markdown",
   "metadata": {},
   "source": [
    "2) Back-substitution(후방대입법)\n",
    "- 아래에서부터 위로 미지수를 실제값으로 대체하여 해를 구함.\n",
    "___"
   ]
  },
  {
   "cell_type": "markdown",
   "metadata": {},
   "source": [
    "- 가우스 소거법에 쓰이는 Elementary Row Operations (EROs, 기본행연산)\n",
    "    - Replacement(치환): 기준행인 i번째 행을 m배한 후 j번째 행을 빼서 업데이트.\n",
    "    $$r_{j} \\rightarrow r_{j} - m r_{i}$$\n",
    "    - Interchange(교환): j번째 행과 i번째 행의 위치를 서로 바꾼다\n",
    "    $$r_{j} \\rightarrow r_{i}$$\n",
    "    - Scaling(스케일링): j번째 행을 s배 스케일링한다.\n",
    "    $$r_{j} \\leftarrow s r_{i}$$"
   ]
  },
  {
   "cell_type": "markdown",
   "metadata": {},
   "source": [
    "- Forward elimination(전방소거법)의 가치\n",
    "    - 주어진 선형시스템을 가장 풀기 쉬운 꼴로 변형해 준다.\n",
    "    - 주어진 선형시스템의 rank(랭크)를 알려준다.\n",
    "        - rank: 선형시스템을 이루는 선형방정식의 종류\n",
    "    - 선형시스템이 해가 있는지(consistent), 해가 없는지(inconsistent) 알려준다."
   ]
  }
 ],
 "metadata": {
  "kernelspec": {
   "display_name": "Python 3",
   "language": "python",
   "name": "python3"
  },
  "language_info": {
   "codemirror_mode": {
    "name": "ipython",
    "version": 3
   },
   "file_extension": ".py",
   "mimetype": "text/x-python",
   "name": "python",
   "nbconvert_exporter": "python",
   "pygments_lexer": "ipython3",
   "version": "3.8.5"
  }
 },
 "nbformat": 4,
 "nbformat_minor": 4
}

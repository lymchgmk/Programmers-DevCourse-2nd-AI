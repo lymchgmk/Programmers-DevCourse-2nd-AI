{
 "cells": [
  {
   "cell_type": "markdown",
   "metadata": {},
   "source": [
    "# 3강. LU 분해"
   ]
  },
  {
   "cell_type": "markdown",
   "metadata": {},
   "source": [
    "## 이론"
   ]
  },
  {
   "cell_type": "markdown",
   "metadata": {},
   "source": [
    "- 행렬의 경우도 인수분해처럼, 주어진 행렬을 행렬분해 한 상태로 가지고 있으면 계산이 편한 경우가 많음.\n",
    "\n",
    "- 행렬분해의 종류\n",
    "    - **LU 분해(LU decomposition)**\n",
    "    - QR 분해(QR decompositon)\n",
    "    - 특이값 분해(SVD, Singular Value Decomposition)\n",
    "        - QR 분해와 특이값 분해는 직교분할과 관련"
   ]
  },
  {
   "cell_type": "markdown",
   "metadata": {},
   "source": [
    "- **LU 분해**\n",
    "> 주어진 행렬을 하삼각행렬, 상삼각행렬의 두 행렬의 곱으로 나누는 행렬분해\n",
    "즉, 가우스 소거법의 전방소거법을 행렬로 코드화 한 것.\n",
    "\n",
    "    - ***L***: lower triangular matrix(하삼각행렬)\n",
    "        - 행렬 A를 전방소거하는데 쓰인 replacement와 scaling에 대한 EROs를 기록한 행렬\n",
    "    - ***U***: upper triangular matrix(상삼각행렬)\n",
    "        - 행렬 A를 전방소거한 후 남은 행렬\n",
    "    - ***P***(옵션)\n",
    "        - 행렬 A를 전방소거하는데 쓰인 interchange에 대한 EROs를 기록해 둔 행렬\n",
    "        \n",
    "$$A = PLU$$"
   ]
  },
  {
   "cell_type": "markdown",
   "metadata": {},
   "source": [
    "- LU 분해를 이용해 Ax=b 문제를\n",
    "    $$Ax=b \\Rightarrow (LU)x=b \\Rightarrow L(Ux)=b \\Rightarrow Ly=b  (\\because Ux=y)$$\n",
    "    \n",
    "    형태로 나타내면, 선형시스템을 Forward-substitution(전방대치법)으로 y를 구하고, Back-substitution(후방대치법)으로 x를 구하는 방법으로 해결할 수 있음."
   ]
  },
  {
   "cell_type": "markdown",
   "metadata": {},
   "source": [
    "- LU 분해의 장점\n",
    "    - 수치적 안정성: 선형시스템 Ax=b의 해를 역행렬을 이용해 직접 구하는 것보다 PLU 분해를 이용하는 것이 좀 더 수치적으로 안정적.\n",
    "    - ***b가 자주 업데이트되는 경우***: 선형시스템 Ax=b에서 행렬 A는 고정되어 있고 b가 자주 변하는 경우, A를 미리 PLU로 분해해 두면 선형시스템의 해 x를 구하기 편함."
   ]
  }
 ],
 "metadata": {
  "kernelspec": {
   "display_name": "Python 3",
   "language": "python",
   "name": "python3"
  },
  "language_info": {
   "codemirror_mode": {
    "name": "ipython",
    "version": 3
   },
   "file_extension": ".py",
   "mimetype": "text/x-python",
   "name": "python",
   "nbconvert_exporter": "python",
   "pygments_lexer": "ipython3",
   "version": "3.8.5"
  }
 },
 "nbformat": 4,
 "nbformat_minor": 4
}

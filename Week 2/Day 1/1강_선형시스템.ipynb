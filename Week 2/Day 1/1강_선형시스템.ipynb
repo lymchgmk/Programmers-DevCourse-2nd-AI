{
 "cells": [
  {
   "cell_type": "markdown",
   "metadata": {},
   "source": [
    "# 1강. 선형시스템(Linear System)"
   ]
  },
  {
   "cell_type": "markdown",
   "metadata": {},
   "source": [
    "## 이론"
   ]
  },
  {
   "cell_type": "markdown",
   "metadata": {},
   "source": [
    "- **선형시스템**\n",
    "> Ax = b, 연립일차방정식의 대수적 표현\n",
    "    - ***가우스 소거법***: 선형시스템을 푸는 방법\n",
    "    - ***LU 분해***: 가우스 소거법 과정을 행렬로 표현"
   ]
  },
  {
   "cell_type": "markdown",
   "metadata": {},
   "source": [
    "> **선형대수(Linear Algebra)**의 목표는 어떤 연립일차방정식 문제를 정형적인 방법으로 표현하고 해결하는 방법을 배우는 것.\n",
    " - 예를 들면, 변수가 매우 많은 연립일차방정식을 해결하는 방법\n",
    "     - 이를 행렬을 사용하여 해결. ***Ax= b***의 형태."
   ]
  },
  {
   "cell_type": "markdown",
   "metadata": {},
   "source": [
    "- N개의 Linear Equation + M개의 Unknowns(Variables) = N x M Linear System"
   ]
  },
  {
   "cell_type": "markdown",
   "metadata": {},
   "source": [
    "- 선형시스템을 Ax=b의 형채로 표현하는 방법\n",
    "    1. 선형시스템의 Unknowns(미지수)를 모아 Column vector(열벡터) ***x***로 표현.\n",
    "    2. 선형시스템의 Linear Equation(선형방정식)에 대해 다음을 수행.\n",
    "        - Coefficients(계수)를 모아 ***A***의 row vector(행벡터)로 표현\n",
    "        - Constant(상수)를 모아 ***b***에 표현."
   ]
  },
  {
   "cell_type": "markdown",
   "metadata": {},
   "source": [
    "### 정리: Linear System의 대수적 표현\n",
    "\n",
    "- m x n 선형시스템의 Ax= b 표현을 정리하면 다음과 같다.\n",
    "    - 식은 행이고, 행은 식이다.\n",
    "    - m은 Linear Equation의 개수\n",
    "    - n은 Unknown의 개수\n",
    "    - A는 m x n행렬\n",
    "    - x는 n-벡터\n",
    "    - b는 m-벡터"
   ]
  },
  {
   "cell_type": "markdown",
   "metadata": {},
   "source": [
    "## 실습"
   ]
  },
  {
   "cell_type": "code",
   "execution_count": 4,
   "metadata": {},
   "outputs": [],
   "source": [
    "import numpy as np"
   ]
  },
  {
   "cell_type": "code",
   "execution_count": 6,
   "metadata": {},
   "outputs": [
    {
     "name": "stdout",
     "output_type": "stream",
     "text": [
      "[[ 3  1  1]\n",
      " [ 1 -2 -1]\n",
      " [ 1  1  1]]\n",
      "(3, 3)\n"
     ]
    }
   ],
   "source": [
    "# 행렬 코딩\n",
    "A = np.array([[3, 1, 1], [1, -2, -1], [1, 1, 1]])\n",
    "\n",
    "print(A)\n",
    "print(np.shape(A))"
   ]
  },
  {
   "cell_type": "code",
   "execution_count": 7,
   "metadata": {},
   "outputs": [
    {
     "name": "stdout",
     "output_type": "stream",
     "text": [
      "[4 1 2]\n",
      "(3,)\n"
     ]
    }
   ],
   "source": [
    "# 벡터 코딩\n",
    "b = np.array([4, 1, 2])\n",
    "\n",
    "print(b)\n",
    "print(np.shape(b))"
   ]
  },
  {
   "cell_type": "code",
   "execution_count": 8,
   "metadata": {
    "scrolled": true
   },
   "outputs": [
    {
     "name": "stdout",
     "output_type": "stream",
     "text": [
      "[[ 5.00000000e-01 -7.40148683e-17 -5.00000000e-01]\n",
      " [ 1.00000000e+00 -1.00000000e+00 -2.00000000e+00]\n",
      " [-1.50000000e+00  1.00000000e+00  3.50000000e+00]]\n",
      "(3, 3)\n"
     ]
    }
   ],
   "source": [
    "# 역행렬 구하기\n",
    "A_inv = np.linalg.inv(A)\n",
    "\n",
    "print(A_inv)\n",
    "print(np.shape(A_inv))"
   ]
  },
  {
   "cell_type": "code",
   "execution_count": 9,
   "metadata": {},
   "outputs": [
    {
     "name": "stdout",
     "output_type": "stream",
     "text": [
      "[ 1. -1.  2.]\n",
      "(3,)\n"
     ]
    }
   ],
   "source": [
    "# 역행렬을 이용한 선형시스템 Ax=b의 해 구하기\n",
    "# x = np.matmul(A_inv, b)\n",
    "x = A_inv @ b\n",
    "\n",
    "print(x)\n",
    "print(np.shape(x))"
   ]
  },
  {
   "cell_type": "code",
   "execution_count": 10,
   "metadata": {},
   "outputs": [
    {
     "name": "stdout",
     "output_type": "stream",
     "text": [
      "[4. 1. 2.]\n",
      "(3,)\n",
      "OK!\n"
     ]
    }
   ],
   "source": [
    "# 결과 검증\n",
    "# bb = np.matmul(A, x)\n",
    "bb = A @ x\n",
    "\n",
    "print(bb)\n",
    "print(np.shape(bb))\n",
    "\n",
    "if np.linalg.norm(b - bb) < 1e-3:\n",
    "    print('OK!')\n",
    "else:\n",
    "    print('Something wrong...')"
   ]
  },
  {
   "cell_type": "code",
   "execution_count": 11,
   "metadata": {},
   "outputs": [
    {
     "name": "stdout",
     "output_type": "stream",
     "text": [
      "1.88411095042053e-15\n"
     ]
    }
   ],
   "source": [
    "print(np.linalg.norm(b - bb))"
   ]
  }
 ],
 "metadata": {
  "kernelspec": {
   "display_name": "Python 3",
   "language": "python",
   "name": "python3"
  },
  "language_info": {
   "codemirror_mode": {
    "name": "ipython",
    "version": 3
   },
   "file_extension": ".py",
   "mimetype": "text/x-python",
   "name": "python",
   "nbconvert_exporter": "python",
   "pygments_lexer": "ipython3",
   "version": "3.8.5"
  }
 },
 "nbformat": 4,
 "nbformat_minor": 4
}

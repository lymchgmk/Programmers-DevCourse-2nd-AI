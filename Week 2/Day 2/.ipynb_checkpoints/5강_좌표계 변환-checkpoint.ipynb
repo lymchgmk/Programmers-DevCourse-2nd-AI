{
 "cells": [
  {
   "cell_type": "markdown",
   "metadata": {},
   "source": [
    "# 5강. 좌표계 변환"
   ]
  },
  {
   "cell_type": "markdown",
   "metadata": {},
   "source": [
    "## 이론"
   ]
  },
  {
   "cell_type": "markdown",
   "metadata": {},
   "source": [
    "- 좌표계(Coordinate System)\n",
    "    - $xy$-평면 상에서 원점 (0, 0)에서 시작하여 (a, b)에서 끝나는 2-벡터 $v$를 x, y축에 수선의 발을 내려서 해석\n",
    "    - 두 벡터 $v1$, $v2$를 이용해 새롭게 좌표계를 만들 수 있음."
   ]
  },
  {
   "cell_type": "markdown",
   "metadata": {},
   "source": [
    "- 좌표계 변환(Change of Basis)\n",
    "    - 이제 선형시스템(Linear System) $Ax = b$을 좌표계 변환으로 볼 수 있음.\n",
    "        - $Ax=b \\Leftrightarrow x=A^{-1}b$에서, $x$를 기준으로 $A$가 이루는 새로운 좌표계에서 해석하는 관점이 가능하다."
   ]
  }
 ],
 "metadata": {
  "kernelspec": {
   "display_name": "Python 3",
   "language": "python",
   "name": "python3"
  },
  "language_info": {
   "codemirror_mode": {
    "name": "ipython",
    "version": 3
   },
   "file_extension": ".py",
   "mimetype": "text/x-python",
   "name": "python",
   "nbconvert_exporter": "python",
   "pygments_lexer": "ipython3",
   "version": "3.8.5"
  }
 },
 "nbformat": 4,
 "nbformat_minor": 4
}

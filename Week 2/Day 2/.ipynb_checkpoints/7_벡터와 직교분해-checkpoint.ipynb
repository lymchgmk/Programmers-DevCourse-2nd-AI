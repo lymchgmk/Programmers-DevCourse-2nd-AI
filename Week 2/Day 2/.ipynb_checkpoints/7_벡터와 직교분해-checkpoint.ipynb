{
 "cells": [
  {
   "cell_type": "markdown",
   "metadata": {},
   "source": [
    "# 7. 벡터와 직교분해"
   ]
  },
  {
   "cell_type": "markdown",
   "metadata": {},
   "source": [
    "## 이론"
   ]
  },
  {
   "cell_type": "markdown",
   "metadata": {},
   "source": [
    "(1) 직교(Orthogonal)\n",
    "> 두 벡터 $u$, $v$간 내적이 0이면 두 벡터는 직교(orthogonal).\n",
    "> $$u \\cdot v \\Leftrightarrow u  \\perp v$$\n",
    "\n",
    "\n",
    "- 직교의 물리적 의미\n",
    "    $u  \\perp v$일 때, $u$ 방향으로의 전진은 $v$ 방향에서 전혀 측정되지 않고, 그 반대도 마찬가지."
   ]
  },
  {
   "cell_type": "markdown",
   "metadata": {},
   "source": [
    "(2) 투영(Projection)\n",
    "> 두 벡터 $u$, $a$에서, 벡터 $u$를 벡터 $a$위에 투영한 벡터를 $pro j_{a}u$라 한다.\n",
    "> $$pro j_{a}u = \\left (\\frac{u \\cdot a}{\\left \\| a \\right \\|}\\right )\\left (\\frac{1}{\\left \\| a \\right \\|}a \\right) = \\left (\\frac{u \\cdot a}{\\left \\| a \\right \\|^{2}}\\right)a$$\n",
    "> 벡터 $u$를 벡터 $a$위에 투영하고 남은 보완 벡터(complement vector)는 $u- pro j_{a}u$\n",
    "\n",
    "\n",
    "- 즉, 두 벡터를 직교와 투영을 사용해 직교분해할 수 있다."
   ]
  },
  {
   "cell_type": "markdown",
   "metadata": {},
   "source": [
    "(3) 직교행렬(Orthogonal Matrix)\n",
    "> 직교좌표계에 대한 행렬 표현\n",
    "\n",
    "- 행렬은 각 열벡터가 기저(basis)를 이루는 좌표계(coordinate system)라는 의미를 가짐.\n",
    "\n",
    "\n",
    "- 직교행렬(orthogonal matrix): 주어진 행렬의 모든 열벡터가 서로 직교.  \n",
    "    - 정규직교행렬(orthonormal matrix): 직교행렬 중, 모든 열벡터의 크기가 1인 경우.\n",
    "    \n",
    "    \n",
    "- 선형시스템 $Ax=b$에서 행렬 $A$가 직교행렬이면, 해 $x$는 역행렬 $A^{-1}$의 계산 없이 구할 수 있다.\n",
    "    - $x$의 $i$-번째 요소를 투영으로 계산, $x_{i} = \\left (\\frac{b \\cdot a_{i}}{\\left \\| a_{i} \\right \\|^{2}} \\right)$\n",
    "    - $x$의 $i$-번째 요소와 $j$-번째 요소는 독립이므로, 병렬처리 가능.\n",
    "    \n",
    "\n",
    "- 선형시스템  𝐴𝑥=𝑏 에서 행렬  𝐴 가 정규직교행렬이면, 마찬가지로 역행렬의 계산 없이\n",
    "    - $x$의 $i$-번째 요소를 내적(inner product)로 계산할 수 있다. $x_{i} = b \\cdot a_{i}$\n",
    "    - 마찬가지로, 병렬처리 가능."
   ]
  },
  {
   "cell_type": "markdown",
   "metadata": {},
   "source": [
    "(4) QR 분해(QR decomposition)\n",
    "> 주어진 행렬을 Q, R 행렬의 곱으로 분해하여 정규직교행렬을 추출\n",
    "> $$A = QR$$\n",
    "\n",
    "\n",
    "- 행렬 $Q$: 정규직교행렬(orthonormal matrix)\n",
    "- 행렬 $U$: 상삼각행렬(upper triangular matrix)\n",
    "\n",
    "\n",
    "- 행렬 $A$를 $QR$ 분해하면,\n",
    "$$Ax=b \\Rightarrow (QR)x=b \\Rightarrow Q(Rx)=b \\Rightarrow Qy=b (\\because Rx=y)$$\n",
    "\n",
    "    선형시스템을 다음 두 단계로 간단히 해결할 수 있음\n",
    "    1. 내적(inner product): y 구하기\n",
    "    2. 후방대치법(Back-substitution): x 구하기\n",
    "    \n",
    "    \n",
    "- $QR$분해는 그람-슈미트 과정(Gram-Schmidt process)을 행렬로 코드화 한 것.\n",
    "    - $Q$: 행렬 $A$에서 정규직교성을 추출한 행렬\n",
    "    - $R$: 행렬 $A$에서 $Q$를 추출하고 남은(residual) 상삼각행렬(upper triangular matrix)\n",
    "    \n",
    "    \n",
    "- $QR$분해의 활용\n",
    "    1. 빠른 계산: 하지만 선형시스템 $Ax=b$의 해를 구할 때, Q는 병렬처리 가능하지만, R은 병렬처리 할 수 없음.\n",
    "    2. b가 자주 업데이트 되는 경우.\n",
    "    \n",
    "    \n",
    "- QR 분해 vs LU 분해\n",
    "    - LU 분해의 경우, 병렬처리 할 수 없는 단점. 대신 상삼각행렬과 하삼각행렬을 사용하므로 메모리 사용량은 적은 편.\n",
    "    - QR 분해의 경우, Q 행렬이 꽉찬 구조를 가지므로 메모리 사용량이 많음."
   ]
  }
 ],
 "metadata": {
  "kernelspec": {
   "display_name": "Python 3",
   "language": "python",
   "name": "python3"
  },
  "language_info": {
   "codemirror_mode": {
    "name": "ipython",
    "version": 3
   },
   "file_extension": ".py",
   "mimetype": "text/x-python",
   "name": "python",
   "nbconvert_exporter": "python",
   "pygments_lexer": "ipython3",
   "version": "3.8.5"
  }
 },
 "nbformat": 4,
 "nbformat_minor": 4
}

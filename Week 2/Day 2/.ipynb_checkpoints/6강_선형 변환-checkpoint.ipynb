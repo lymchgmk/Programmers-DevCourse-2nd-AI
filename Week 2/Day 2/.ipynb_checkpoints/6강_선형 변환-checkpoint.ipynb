{
 "cells": [
  {
   "cell_type": "markdown",
   "metadata": {},
   "source": [
    "# 6강. 선형 변환(Linear Transformation)"
   ]
  },
  {
   "cell_type": "markdown",
   "metadata": {},
   "source": [
    "## 이론"
   ]
  },
  {
   "cell_type": "markdown",
   "metadata": {},
   "source": [
    "(1) 함수(Function)\n",
    "> 1. 초등교과: 입력(input) $\\rightarrow$ 함수(function) $\\rightarrow$ 출력(output)\n",
    "  2. 중등교과: 함수 $f$는 두 집합(정의역 집합 $D$, 공역 집합($C$) 간의 ***맵핑룰(mapping rule)***이다.\n",
    "      $f: D \\rightarrow C$"
   ]
  },
  {
   "cell_type": "markdown",
   "metadata": {},
   "source": [
    "(2) 선형 함수(Linear Function)\n",
    "> 1. $f(x+y) = f(x) + f(y)$\n",
    "> 2. $f(cx) = cf(x)$"
   ]
  },
  {
   "cell_type": "markdown",
   "metadata": {},
   "source": [
    "(3) 변환(Transformation)\n",
    "> 함수의 입출력이 벡터인 함수\n",
    "> $T: \\mathbb{R}^{n} \\rightarrow \\mathbb{R}^{n}$\n",
    "\n",
    "   - 특별히, $n=m$인 경우, 연산자(operator)라 함.\n",
    "       - 예를 들어, 28 $\\times$ 28 해상도의 손글씨 숫자 영상을 입력으로 받아 0-9 숫자를 출력하는 MNIST 손글씨 인식문제는 $T: \\mathbb{R}^{28 \\times 28} \\rightarrow \\mathbb{R}^{10}$\n",
    "\n",
    "\n",
    "   - $m \\times n$ 행렬 $A$에 대해 $Ax$는 행렬변환 $T_{A}(x) = Ax$이고, 이 변환은 선형함수의 성질을 모두 만족하기 때문에 $ T_{A}(x+y) = T_{A}(x) + T_{A}(y)$ and $T_{A}(cx) = cT_{A}(x)$\n",
    "\n",
    "\n",
    "   - 즉, 임의의 선형변환은 행렬로 표현가능하며, 행렬은 선형변환의 구현체."
   ]
  },
  {
   "cell_type": "markdown",
   "metadata": {},
   "source": [
    "(4) 행렬변환 코딩하기\n",
    "\n",
    ">1. 구형하고자 하는 기능(function)의 입력과 출력을 벡터로 정의가능한지 확인.\n",
    ">2. 구현하고자 하는 기능이 선형인지 확인.\n",
    ">3. 입력이 $n$-벡터이고, 출력이 $m$-벡터이면 $m \\times n$ 표준행렬(standard matrix)를 구성.\n",
    "\n",
    "\n",
    "- 표준행렬 구하기\n",
    "    1. $n$-차원 표준기저벡터 {$e_{1}, e_{2}, \\dots, e_{n}$}를 생각.\n",
    "    2. 각 $n$-차원 표준기저벡터 $e_{i}$에 대해, function 후의 출력인 $m$-차원벡터 $T(e_{i})$를 표준행렬의 각 열에 적는다."
   ]
  }
 ],
 "metadata": {
  "kernelspec": {
   "display_name": "Python 3",
   "language": "python",
   "name": "python3"
  },
  "language_info": {
   "codemirror_mode": {
    "name": "ipython",
    "version": 3
   },
   "file_extension": ".py",
   "mimetype": "text/x-python",
   "name": "python",
   "nbconvert_exporter": "python",
   "pygments_lexer": "ipython3",
   "version": "3.8.5"
  }
 },
 "nbformat": 4,
 "nbformat_minor": 4
}

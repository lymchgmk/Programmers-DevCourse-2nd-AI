{
 "cells": [
  {
   "cell_type": "markdown",
   "metadata": {},
   "source": [
    "# 4강. 행렬연산과 선형조합"
   ]
  },
  {
   "cell_type": "markdown",
   "metadata": {},
   "source": [
    "## 이론"
   ]
  },
  {
   "cell_type": "markdown",
   "metadata": {},
   "source": [
    "- 행렬(matrix)\n",
    "> 직사각형 구조에 숫자들을 담아 놓은 구조. 각 숫자들은 행렬의 *요소(entry)*라 부른다.\n",
    "\n",
    "    - 하나의 행 혹은 하나의 열을 가지는 특별한 행렬을 **행벡터(row vector)**, **열벡터(column vector)**라 한다.\n",
    "        - 극단적으로 1 x 1 행렬은 **스칼라(scalar)**와 같다."
   ]
  },
  {
   "cell_type": "markdown",
   "metadata": {},
   "source": [
    "- 행렬의 표기법\n",
    "    - 행렬 A의 각 (i, j)요소는 $ a_{ij}$\n",
    "    - 행렬 A를 간략히 표기할 때는 $A = [a_{ij}]$\n",
    "    - 행렬 A의 크기가 중요할 경우는 $A = [a_{ij}]_{m \\times n}$"
   ]
  },
  {
   "cell_type": "markdown",
   "metadata": {},
   "source": [
    "- 전치행렬(Transpose Matrix)\n",
    "> 전치행렬 $A^{T}$은 $m \\times n$ 행렬인 $A$의 행을 열로, $A$의 열을 행으로 가지는 $n \\times m$ 행렬이다.\n",
    "\n",
    "$$(A^{T})_{ij} = (A)_{ji}$$"
   ]
  },
  {
   "cell_type": "markdown",
   "metadata": {},
   "source": [
    "- 벡터 표기법\n",
    "    - 일반적으로 열벡터(column vector)를 말함.\n",
    "        - 즉, n-벡터는 n개의 스칼라(scalar)로 구성된 벡터를 의미."
   ]
  },
  {
   "cell_type": "markdown",
   "metadata": {},
   "source": [
    "- 영행렬(Zero Matrices)\n",
    "> 행렬의 모든 요소가 0이면, 해당 행렬을 영행렬(zero matrix)라 하고 *O*으로 표기한다.\n",
    "\n",
    "    $$ A + O = O + A = A$$\n",
    "    \n",
    "    \n",
    "   - 숫자 연산의 0과 같은 존재로 행렬합에 대한 항등원\n",
    "       - 단, 행과 열의 개수가 모두 같을 때 성립."
   ]
  },
  {
   "cell_type": "markdown",
   "metadata": {},
   "source": [
    "- 정방행렬(Square Matrix) : $n \\times n$ 행렬\n",
    "> 행과 열의 개수가 모두 n인 정사각형 모양의 행렬\n",
    "\n",
    "    - 특히, $a_{ii} (i = 1, 2, ... , n)$를 행렬 A의 주대각선(main diagonal)라 한다."
   ]
  },
  {
   "cell_type": "markdown",
   "metadata": {},
   "source": [
    "- 항등행렬(Identity Matrices)\n",
    "> 주대각선(main diagonal)이 1이고 나머지 요소는 모두 0인 n차 정방행렬(square matrix)\n",
    "\n",
    "    - 일반 연산의 1과 같은 존재로 행렬곱에 대한 항등원 역할을 한다"
   ]
  },
  {
   "cell_type": "markdown",
   "metadata": {},
   "source": [
    "- **행렬의 곱**\n",
    "> $m \\times r$ 행렬 $A$와 $r \\times n$ 행렬 $B$가 있을 때, 두 행렬의 곱 $AB$는 아래와 같은 $m \\times n$ 행렬 $C$를 정의한다.\n",
    "\n",
    "$$ c_{ij} = a_{i1}b_{1j} + a_{i2}b_{2j} + \\dots + a_{ir}b_{rj}$$\n",
    "\n",
    "- 행렬 $C$의 각 요소 $c_{ij}$는 왼쪽 행렬 $A$의 $i$번째 행벡터와 오른쪽 행렬 $B$의 $j$번째 열벡터의 내적(inner product)이다.\n",
    "    - 따라서, $A$의 열 개수와 $B$의 행 개수는 일치해야 행렬의 곱이 가능하다.\n",
    "    - 일반적으로 $AB \\neq BA$\n",
    "- 행렬의 곱은 ***병렬처리(parallel processing)***로 가속할 수 있다."
   ]
  },
  {
   "cell_type": "markdown",
   "metadata": {},
   "source": [
    "- 행렬의 변환\n",
    "    - 스칼라 $\\rightarrow$ 벡터 $\\rightarrow$ 행렬:\n",
    "\n",
    "        스칼라는 숫자 하나로 구성되어 있고,\n",
    "        $$7$$\n",
    "        이 스칼라는 1-벡터와 같고,\n",
    "        $$[7]$$\n",
    "        다시, 이 스칼라는 $1 \\times 1$ 행렬이다.\n",
    "        $$[7]_{1 \\times 1}$$\n",
    "        \n",
    "    - 벡터 $\\rightarrow$ 행렬:\n",
    "    벡터를 행렬로 표현할 때, 여러 모양의 행렬로 표현할 수 있고, 표현하고자 하는 행렬의 모양은 문제에 따라 결정.    \n",
    "    \n",
    "    - 행렬 $\\rightarrow$ 벡터: 행렬의 사각형 구조를 펼쳐서 열벡터 혹은 행벡터로 변환할 수 있다.\n",
    "    - 단, 행렬을 벡터로 변환할 때, 행부터 혹은 열부터 읽을 것인지는 문제에 따라 결정."
   ]
  },
  {
   "cell_type": "markdown",
   "metadata": {},
   "source": [
    "- **텐서(Tensor)**\n",
    "> 텐서(tensor)는 스칼라, 벡터, 행렬을 아우르는 개념. 숫자가 늘어설 수 있는 방향이 $k$개면 $k$-텐서로 부름.\n",
    "\n",
    "    - 0-텐서: 스칼라\n",
    "    - 1-텐서: 벡터\n",
    "    - 2-텐서: 행렬\n",
    "    - 만일 아래의 $T$의 각 요소 $P_{(i, j)}$가 벡터라면, $T$는 3-텐서.\n",
    "    $$ T = \\begin{bmatrix}\n",
    " P_{(1, 1)}  P_{(1, 2)}  P_{(1, 3)} P_{(1, 4)}\\\\ \n",
    " P_{(2, 1)}  P_{(2, 2)}  P_{(2, 3)} P_{(2, 4)}\\\\ \n",
    " P_{(3, 1)}  P_{(3, 2)}  P_{(3, 3)} P_{(3, 4)}\\\\ \n",
    " P_{(4, 1)}  P_{(4, 2)}  P_{(4, 3)} P_{(4, 4)}\n",
    "\\end{bmatrix}$$\n",
    "    - 3-텐서의 대표적인 예로 컬러영상이 있다. $P_{(i, j)}$가 3-벡터이면 RGB, 4-벡터이면 RGBA"
   ]
  },
  {
   "cell_type": "markdown",
   "metadata": {},
   "source": [
    "- **분할행렬(Partitioned Matrix)**\n",
    "> 행렬을 조각(partition) 단위로 분할하여 생각해도 무방하기 때문에, 행렬을 부분행렬(submatrix)로 이루어진 직사각형 구조로 확장하여 생각하는 추상적 구조. **분할행렬(partitioned matrix)** 또는 **블록행렬(block matrix)**라 한다.\n",
    "\n",
    "    - 특히, 벡터를 열벡터로 분할하는 것을 많이 사용\n",
    "        - $AB = C$에서 B를 열벡터로 분할하고, 행렬의 곱을 matrix-column vector products로 볼 수 있음.\n",
    "        - 마찬가지로, $AB = C$에서 A를 행벡터로 분할하고, 행렬의 곱을 row vector-matrix product로 볼 수 있음."
   ]
  },
  {
   "cell_type": "markdown",
   "metadata": {},
   "source": [
    "- **선형조합(Linear Combination)**\n",
    "> $Ax = b$에서 $Ax$는 $A$의 열벡터에 대한 선형조합으로 생각하는 것.\n",
    "\n",
    "    - ***행렬을 열벡터의 리스트로 생각***, $m \\times n$행렬은 $m$-벡터가 $n$개 있다고 해석하는 관점.\n",
    "        - 즉, $Ax$에서 $A$를 $[a_{1}, a_{2}, \\dots ,  a_{n}]$으로 생각하고, 벡터들에 대한 ***가중치 합***으로 생각하는 것."
   ]
  },
  {
   "cell_type": "markdown",
   "metadata": {},
   "source": [
    "- 열공간(Column Space)\n",
    "> 행렬 $A$의 열벡터들에 대한 ***가능한 모든 선형조합***의 결과를 집합으로 모아 구성한 것.\n",
    "$$col(A)$$\n",
    "\n",
    "    - Consistent Linear System: 선형시스템 $Ax=b$가 해를 가지면(consistent), $b \\in  col(A) $\n",
    "    - Inconsistent Linear System: 선형시스템 $Ax=b$가 해가 없으면(inconsistent), $b \\notin col(A) $\n",
    "    - 행렬 $A$의 열벡터들이 서로 다른 평면을 이루는 경우 어떤 벡터 $b$가 와도 해가 존재."
   ]
  }
 ],
 "metadata": {
  "kernelspec": {
   "display_name": "Python 3",
   "language": "python",
   "name": "python3"
  },
  "language_info": {
   "codemirror_mode": {
    "name": "ipython",
    "version": 3
   },
   "file_extension": ".py",
   "mimetype": "text/x-python",
   "name": "python",
   "nbconvert_exporter": "python",
   "pygments_lexer": "ipython3",
   "version": "3.8.5"
  }
 },
 "nbformat": 4,
 "nbformat_minor": 4
}

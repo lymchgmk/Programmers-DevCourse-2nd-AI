{
 "cells": [
  {
   "cell_type": "markdown",
   "metadata": {},
   "source": [
    "# 9강. 벡터공간과 최소제곱법"
   ]
  },
  {
   "cell_type": "markdown",
   "metadata": {},
   "source": [
    "## 이론"
   ]
  },
  {
   "cell_type": "markdown",
   "metadata": {},
   "source": [
    "(1) 집합(set)과 공간(space)\n",
    "- 집합(set): 임의의 원소(element)를 수집하여 만든 모듬.\n",
    "    - 집합에서 임의의 원소를 뽑아 어떤 연산을 수행한 결과가 다시 집합의 원소인 경우, 집합이 연산에 닫혀 있다고 함.\n",
    "    \n",
    "    \n",
    "- 공간(space): 다음 두 연산에 대해 닫혀있는 집합.\n",
    "    1. 덧셈연산: 집합의 임의의 두 원소 $x$, $y$에 대해 $x+y$도 집합의 원소\n",
    "    2. 스칼라 곱 연산: 집합의 임의의 한 원소 $x$에 대해 임의의 스칼라 $s$와 스칼라 곱을 한 $sx$도 집합의 원소\n",
    "    \n",
    "    \n",
    "- $n$-벡터의 집합은 모두 공간.\n",
    "$$\\mathbb{R}^{n} = \\{x|x=x_{1}, x_{2}, \\dots, x_{n}\\} (단, x_{i} \\in \\mathbb{R})$$\n",
    "    - 따라서, 모든 $n$-벡터 집합 $\\mathbb{R}^{n}$은 n차원 벡터 공간(vector space)라 부를 수 있다."
   ]
  },
  {
   "cell_type": "markdown",
   "metadata": {},
   "source": [
    "(2) 최소 제곱법(Least Squares Method)\n",
    "\n",
    "\n",
    "(2)-1. 열공간(Column Space)\n",
    "> 행렬 $A$의 열벡터들에 대한 가능한 모든 선형조합의 결과를 모아 집한으로 구성한 것.\n",
    "\n",
    "\n",
    "- 선형시스템 $Ax=b$의 해의 유무에 따라 Consistent Linear System, Inconsistent Linear System으로 구분.\n",
    "    - **최소 제곱법**을 통해, **선형시스템 $Ax=b$의 해가 없음에도 불구하고, 행렬 $A$의 열공간에 $b$를 투영한 $proj_{w}b$를 통해 원래 해의 근사치를 구할 수 있다**\n",
    "    \n",
    "\n",
    "(2)-2. 최소 제곱법에 대한 설명\n",
    "> $$A \\bar{x}=\\bar{b}  (단, \\bar{b} = proj_{W}b)$$\n",
    "\n",
    "- 주어진 선형시스템의 양변에 전치행렬 $A^{T}$를 곱해서 최소제곱법의 해를 구할 수 있다.\n",
    "$$Ax=b \\Rightarrow A^{T}A\\bar{x}=A^{T}b \\Rightarrow \\bar{x}=(A^{T}A)^{-1}A^{T}b\\$$\n",
    "\n",
    "    - 단, 최소제곱법으로 구한 해 $\\bar{x}$는 원래의 선형시스템의 해는 아니고, 근사해(approximate solution)이다.\n",
    "    $$A \\bar{x}=proj_{W}b$$\n",
    "    \n",
    "    \n",
    "(2)-3. 최소제곱법의 응용\n",
    "- 선형회귀(Linear Regression)\n",
    "    1. 선형시스템 구성\n",
    "        - 직선이 각 정점을 모두 지나간다고 가정하고 해가 없지만 선형시스템 $Ax=b$를 구성.\n",
    "    2. 최소제곱법 적용\n",
    "        - $A^{T}A\\bar{x}=A^{T}b$를 생각하고, $\\bar{x}=\\begin{bmatrix}\n",
    "\\bar{m}\\\\ \n",
    "\\bar{b}\n",
    "\\end{bmatrix}$를 구한다."
   ]
  }
 ],
 "metadata": {
  "kernelspec": {
   "display_name": "Python 3",
   "language": "python",
   "name": "python3"
  },
  "language_info": {
   "codemirror_mode": {
    "name": "ipython",
    "version": 3
   },
   "file_extension": ".py",
   "mimetype": "text/x-python",
   "name": "python",
   "nbconvert_exporter": "python",
   "pygments_lexer": "ipython3",
   "version": "3.8.5"
  }
 },
 "nbformat": 4,
 "nbformat_minor": 4
}

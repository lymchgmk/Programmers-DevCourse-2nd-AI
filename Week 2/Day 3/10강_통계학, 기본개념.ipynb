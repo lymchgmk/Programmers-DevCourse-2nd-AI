{
 "cells": [
  {
   "cell_type": "markdown",
   "metadata": {},
   "source": [
    "# 10강. 통계학, 기본개념"
   ]
  },
  {
   "cell_type": "markdown",
   "metadata": {},
   "source": [
    "## 이론"
   ]
  },
  {
   "cell_type": "markdown",
   "metadata": {},
   "source": [
    "- 통계학(Statistics)\n",
    "> 데이터의 수집(collection), 구성(organization), 분석(analysis), 해석(interpretation), 표현(presentation)에 관한 학문\n",
    "    - 기술통계학(descriptive statistics) : 수집한 데이터에 대한 설명\n",
    "    - 추측통계학(inferential statistics) : 수집한 데이터에 기반하여 추측"
   ]
  },
  {
   "cell_type": "markdown",
   "metadata": {},
   "source": [
    "- 기본 개념 정의\n",
    "    - 모집단(population): 어떤 질문이나 실험을 위해 관심의 대상이 되는 개체나 사건의 집합\n",
    "    - 모수(parameter): 모집단의 수치적 특성\n",
    "    - 표본(sample): 모집단에서 선택된 개체나 사건의 집합"
   ]
  },
  {
   "cell_type": "markdown",
   "metadata": {},
   "source": [
    "- 도수(Frequency)\n",
    "> 어떤 사건이 실험이나 관찰로부터 발생한 횟수\n",
    "\n",
    "    - 도수분포표(Frequency Distribution Table)\n",
    "    - 막대그래프(Bar graph)\n",
    "        - 질적 자료\n",
    "    - 히스토그램(Histogram)\n",
    "        - 양적 자료\n",
    "        - 히스토그램은 막대그래프와 다르게 붙어있고, 바의 순서가 변해서는 안된다.\n",
    "    - 줄기 잎 그림(Stem and Leaf Diagram)\n",
    "        - 양적 자료를 줄기와 잎으로 구분."
   ]
  },
  {
   "cell_type": "markdown",
   "metadata": {},
   "source": [
    "- 상대도수\n",
    "> 도수를 전체 원소의 수로 나눈 것"
   ]
  },
  {
   "cell_type": "markdown",
   "metadata": {},
   "source": [
    "- Scipy 모듈"
   ]
  },
  {
   "cell_type": "markdown",
   "metadata": {},
   "source": [
    "- 평균(Mean)\n",
    "> $$\\frac {x_{1} + x_{2} + \\dots + x_{n}} {n} = \\frac {1} {n} \\sum _{i=1} ^{n} x_{i}$$\n",
    "    1. 모평균 $\\mu$: 모집단 전체 자료의 평균\n",
    "    2. 표본 평균 $\\bar{x}$: 모집단에서 추출한 표본의 평균"
   ]
  },
  {
   "cell_type": "code",
   "execution_count": 1,
   "metadata": {},
   "outputs": [
    {
     "data": {
      "text/plain": [
       "3.8"
      ]
     },
     "execution_count": 1,
     "metadata": {},
     "output_type": "execute_result"
    }
   ],
   "source": [
    "a = [2, 5, 2, 4, 6]\n",
    "import statistics\n",
    "statistics.mean(a)"
   ]
  },
  {
   "cell_type": "markdown",
   "metadata": {},
   "source": [
    "- 중앙값(Median)\n",
    "> 주어진 자료를 높은 쪽 절반과 낮은 쪽 절반으로 나누는 값\n",
    "> 자료를 순서대로 나열했을 때 가운데 있는 값\n",
    "> 자료의 수가 n일 때, n이 홀수인 경우 $\\frac {n+1} {2}$번째 자료값, n이 짝수인 경우 $\\frac {n} {2}$번째 자료값과 $\\frac {n} {2} + 1$번째 자료값의 평균\n",
    "    - 평균의 경우 극단 값의 영향을 많이 받음.\n"
   ]
  },
  {
   "cell_type": "code",
   "execution_count": 7,
   "metadata": {},
   "outputs": [
    {
     "name": "stdout",
     "output_type": "stream",
     "text": [
      "[2, 2, 4, 5, 6, 10, 10, 10]\n"
     ]
    },
    {
     "data": {
      "text/plain": [
       "5.5"
      ]
     },
     "execution_count": 7,
     "metadata": {},
     "output_type": "execute_result"
    }
   ],
   "source": [
    "a.sort()\n",
    "print(a)\n",
    "statistics.median(a)"
   ]
  },
  {
   "cell_type": "markdown",
   "metadata": {},
   "source": [
    "- 분산(Variance)\n",
    "    - 편차: 값과 평균의 차이\n",
    "> 편차의 제곱의 합을 자료의 수로 나눈 값\n",
    "\n",
    "    - 모분산: 자료가 모집단인 경우\n",
    "    $$\\sigma^{2} = \\frac{1}{N}\\sum _{i=1} ^{N} (x_{i} - \\mu)^{2}$$\n",
    "    - 표본분산: 자료가 표본인 경우\n",
    "    $$s^{2} = \\frac{1}{n-1}\\sum _{i=1} ^{n} (x_{i} - \\bar{x})^{2}$$\n",
    "        - ***n이 아닌 n-1로 나누는 이유***\n",
    "            1. 이렇게 정의해야 표본분산의 기댓값이 모분산과 같기 때문.\n",
    "            2. 표본이 작은 경우, n을 그대로 사용하면 모집단의 분산이나 표준편차를 작게 추정하기 때문.\n",
    "                - 불편추정치(unbiased estimate)를 만들기 위해 n-1을 사용."
   ]
  },
  {
   "cell_type": "code",
   "execution_count": 8,
   "metadata": {},
   "outputs": [
    {
     "data": {
      "text/plain": [
       "12.125"
      ]
     },
     "execution_count": 8,
     "metadata": {},
     "output_type": "execute_result"
    }
   ],
   "source": [
    "statistics.variance(a)"
   ]
  },
  {
   "cell_type": "code",
   "execution_count": 10,
   "metadata": {},
   "outputs": [
    {
     "data": {
      "text/plain": [
       "12.125"
      ]
     },
     "execution_count": 10,
     "metadata": {},
     "output_type": "execute_result"
    }
   ],
   "source": [
    "import scipy.stats\n",
    "scipy.stats.tvar(a)"
   ]
  },
  {
   "cell_type": "markdown",
   "metadata": {},
   "source": [
    "- 표준편차(Standard Deviation)\n",
    "> 분산의 양의 제곱근\n",
    "    - 모표준편차(population standard deviation)\n",
    "    $$\\sigma = \\sqrt {\\frac{1}{N}\\sum _{i=1} ^{N} (x_{i} - \\mu)^{2}}$$\n",
    "    - 표본표준편차(sample standard deviation)\n",
    "    $$s = \\sqrt {\\frac{1}{n-1}\\sum _{i=1} ^{n} (x_{i} - \\bar{x})^{2}}$$"
   ]
  },
  {
   "cell_type": "code",
   "execution_count": 11,
   "metadata": {},
   "outputs": [
    {
     "data": {
      "text/plain": [
       "3.48209706929603"
      ]
     },
     "execution_count": 11,
     "metadata": {},
     "output_type": "execute_result"
    }
   ],
   "source": [
    "# Standard Deviation\n",
    "statistics.stdev(a)"
   ]
  },
  {
   "cell_type": "code",
   "execution_count": 18,
   "metadata": {},
   "outputs": [
    {
     "name": "stdout",
     "output_type": "stream",
     "text": [
      "10.609375\n",
      "3.2572035551988456\n"
     ]
    }
   ],
   "source": [
    "# 모분산\n",
    "statistics.pvariance(a)\n",
    "\n",
    "# 모표준편차\n",
    "statistics.pstdev(a)\n",
    "\n",
    "print(statistics.pvariance(a))\n",
    "print(statistics.pstdev(a))"
   ]
  },
  {
   "cell_type": "code",
   "execution_count": 19,
   "metadata": {},
   "outputs": [
    {
     "name": "stdout",
     "output_type": "stream",
     "text": [
      "10.609375\n",
      "3.2572035551988456\n",
      "12.125\n",
      "3.48209706929603\n"
     ]
    }
   ],
   "source": [
    "# numpy에서의 표준편차\n",
    "# ddof: Delta Degrees of Freedom\n",
    "import numpy\n",
    "\n",
    "\n",
    "print(numpy.var(a))\n",
    "print(numpy.std(a))\n",
    "print(numpy.var(a, ddof=1))\n",
    "print(numpy.std(a, ddof=1))"
   ]
  },
  {
   "cell_type": "markdown",
   "metadata": {},
   "source": [
    "- 범위(Range)\n",
    "> 자료를 정렬하였을 때, 가장 큰 값과 가장 작은 값의 차이"
   ]
  },
  {
   "cell_type": "code",
   "execution_count": 23,
   "metadata": {},
   "outputs": [
    {
     "data": {
      "text/plain": [
       "8"
      ]
     },
     "execution_count": 23,
     "metadata": {},
     "output_type": "execute_result"
    }
   ],
   "source": [
    "max(a) - min(a)"
   ]
  },
  {
   "cell_type": "code",
   "execution_count": 21,
   "metadata": {},
   "outputs": [
    {
     "data": {
      "text/plain": [
       "8"
      ]
     },
     "execution_count": 21,
     "metadata": {},
     "output_type": "execute_result"
    }
   ],
   "source": [
    "numpy.max(a) - numpy.min(a)"
   ]
  },
  {
   "cell_type": "markdown",
   "metadata": {},
   "source": [
    "- 사분위수 (Quartile)\n",
    "> 전체 자료를 정렬했을 때, 1/4, 2/4, 3/4 위치에 있는 숫자\n",
    "    - Q1: 제 1사분위수\n",
    "    - Q2: 제 2사분위수\n",
    "    - Q3: 제 3사분위수\n",
    "    \n",
    "  - 범위(range)보다 이상치에 둔감하게 적절한 파악이 가능"
   ]
  },
  {
   "cell_type": "code",
   "execution_count": 25,
   "metadata": {},
   "outputs": [
    {
     "name": "stdout",
     "output_type": "stream",
     "text": [
      "3.5\n",
      "5.5\n",
      "10.0\n"
     ]
    }
   ],
   "source": [
    "print(numpy.quantile(a, .25))\n",
    "print(numpy.quantile(a, .5))\n",
    "print(numpy.quantile(a, .75))"
   ]
  },
  {
   "cell_type": "code",
   "execution_count": 27,
   "metadata": {},
   "outputs": [
    {
     "name": "stdout",
     "output_type": "stream",
     "text": [
      "6.800000000000001\n"
     ]
    }
   ],
   "source": [
    "# numpy에서는 꼭 정확한 사분위수가 아니어도 같은 의미로 사용할 수 있음\n",
    "print(numpy.quantile(a, .60))"
   ]
  },
  {
   "cell_type": "markdown",
   "metadata": {},
   "source": [
    "- z-score\n",
    "> 어떤 값이 평균으로부터 몇 표준편차 떨어져 있는지를 의미하는 값\n",
    "    - 모집단의 경우: $z=\\frac {x - \\mu} {\\sigma}$\n",
    "    - 표본의 경우: $z=\\frac {x - \\bar{x}} {s}$"
   ]
  },
  {
   "cell_type": "code",
   "execution_count": 28,
   "metadata": {},
   "outputs": [
    {
     "data": {
      "text/plain": [
       "array([-1.26642377, -1.26642377, -0.65240012, -0.3453883 , -0.03837648,\n",
       "        1.18967081,  1.18967081,  1.18967081])"
      ]
     },
     "execution_count": 28,
     "metadata": {},
     "output_type": "execute_result"
    }
   ],
   "source": [
    "scipy.stats.zscore(a)"
   ]
  },
  {
   "cell_type": "code",
   "execution_count": 33,
   "metadata": {},
   "outputs": [
    {
     "name": "stdout",
     "output_type": "stream",
     "text": [
      "a = [2, 2, 4, 5, 6, 10, 10, 10]\n"
     ]
    },
    {
     "data": {
      "text/plain": [
       "array([-1.18463096, -1.18463096, -0.61026443, -0.32308117, -0.03589791,\n",
       "        1.11283515,  1.11283515,  1.11283515])"
      ]
     },
     "execution_count": 33,
     "metadata": {},
     "output_type": "execute_result"
    }
   ],
   "source": [
    "print('a =', a)\n",
    "scipy.stats.zscore(a, ddof=1)"
   ]
  }
 ],
 "metadata": {
  "kernelspec": {
   "display_name": "Python 3",
   "language": "python",
   "name": "python3"
  },
  "language_info": {
   "codemirror_mode": {
    "name": "ipython",
    "version": 3
   },
   "file_extension": ".py",
   "mimetype": "text/x-python",
   "name": "python",
   "nbconvert_exporter": "python",
   "pygments_lexer": "ipython3",
   "version": "3.8.5"
  }
 },
 "nbformat": 4,
 "nbformat_minor": 4
}

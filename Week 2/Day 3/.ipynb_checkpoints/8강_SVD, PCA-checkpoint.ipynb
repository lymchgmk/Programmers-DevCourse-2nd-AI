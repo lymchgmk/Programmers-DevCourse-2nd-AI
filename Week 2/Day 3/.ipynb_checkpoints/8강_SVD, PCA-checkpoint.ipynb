{
 "cells": [
  {
   "cell_type": "markdown",
   "metadata": {},
   "source": [
    "# 8강. SVD, PCA"
   ]
  },
  {
   "cell_type": "markdown",
   "metadata": {},
   "source": [
    "## 이론"
   ]
  },
  {
   "cell_type": "markdown",
   "metadata": {},
   "source": [
    "- LU 분해와 QR 분해는 $n \\times n$ 정방행렬(square matrix)에 대한 행렬분해인 반면, 특이값 분해는 일반적인 $m \\times n$ 행렬에 대한 행렬 분해.\n",
    "    - 특이값 분해는 직교분할, 확대축소, 차원변환 등과 관련."
   ]
  },
  {
   "cell_type": "markdown",
   "metadata": {},
   "source": [
    "(1) 특이값 분해(Singular Value Decomposition, SVD)\n",
    "> $$A_{m \\times n} = U_{m \\times m} D_{m \\times n} V^{T}_{n \\times n}$$\n",
    "\n",
    "\n",
    "- 행렬 $U$, $D$, $T$의 특성에 대해\n",
    "    1. $U$: $m$차원 회전행렬 (정규직교행렬)\n",
    "    2. $D$: $n$차원 확대축소 후 $m$차원으로 차원변환 (확대축소 크기에 따른 정렬 형태)\n",
    "    3. $V$: $n$차원 회전행렬 (정규직교행렬)"
   ]
  },
  {
   "cell_type": "markdown",
   "metadata": {},
   "source": [
    "(1)-1. 특이값 분해의 활용\n",
    "- $U$, $V$, $D$의 열벡터를 순서대로 p개 취하는 방식으로, 강한 응집성을 가지는 p개의 방향으로 수선의 발을 내린, 근사치 $A'$를 얻을 수 있음."
   ]
  },
  {
   "cell_type": "markdown",
   "metadata": {},
   "source": [
    "(2) 주성분분석(Principal Component Analysis, PCA)\n",
    "> 데이터의 공분산행렬(covariance matrix)에 대한 고유값 분해에 기반을 둔 직교분해. (고유값(eigenvalue)에 대해서는 생략)\n",
    "\n",
    "\n",
    "> $$C_{n \\times n} = W_{n \\times n} D_{n \\times n} W^{T}_{n \\times n}$$\n",
    "\n",
    "\n",
    "> $K$개의 $n$차원 데이터 $\\left \\{  x_{i}\\right \\}^{K}_{i=1}$가 있을 때 데이터의 중심 $m$과 공분산행렬 $C$는 다음과 같다.\n",
    "> $$m = \\frac{1}{K} \\sum_{i=1}^{K} x_{i}$$\n",
    "> $$C = \\frac{1}{K} \\sum_{i=1}^{K} (x_{i} - m)(x_{i} - m)^{T}$$\n",
    "\n",
    "\n",
    "- 주성분분석을 통해 얻은 행렬 $W$, $D$에 대한 의미\n",
    "    - $W$: $n$차원 회전행렬 (정규직교행렬)\n",
    "    - $D$: $n$차원 확대축소 (확대축소 크기에 따른 정렬 형태)"
   ]
  },
  {
   "cell_type": "markdown",
   "metadata": {},
   "source": [
    "(2)-1. 주성분분석의 활용\n",
    "- 데이터들의 중심을 지나는 어떤 기준 축에 대해 수선의 발을 내리고, 그 축에 대한 정보와, 축에 내린 수선의 발을 가지고 근사치를 구해, 분석하는 방법.\n",
    "\n",
    "\n",
    "- 차원축소에 많이 사용."
   ]
  }
 ],
 "metadata": {
  "kernelspec": {
   "display_name": "Python 3",
   "language": "python",
   "name": "python3"
  },
  "language_info": {
   "codemirror_mode": {
    "name": "ipython",
    "version": 3
   },
   "file_extension": ".py",
   "mimetype": "text/x-python",
   "name": "python",
   "nbconvert_exporter": "python",
   "pygments_lexer": "ipython3",
   "version": "3.8.5"
  }
 },
 "nbformat": 4,
 "nbformat_minor": 4
}

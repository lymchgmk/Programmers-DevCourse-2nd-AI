{
 "cells": [
  {
   "cell_type": "markdown",
   "id": "2fb79858",
   "metadata": {},
   "source": [
    "# AWS를 활용한 인공지능 모델 배포 2"
   ]
  },
  {
   "cell_type": "markdown",
   "id": "fed4076a",
   "metadata": {},
   "source": [
    "## Contents\n",
    "1. AWS 계정 가입\n",
    "2. EC2 생성 & Security group 설정\n",
    "3. 탄력적 IP 설정\n",
    "4. VS Code로 환경 테스트"
   ]
  },
  {
   "cell_type": "markdown",
   "id": "d9be6c22",
   "metadata": {},
   "source": [
    "## 1. AWS 계정 가입\n",
    "> https://aws.amazon.com/ko/\n",
    "\n",
    "- 해외결제 가능한 카드 결제 필요\n",
    "- 신규 회원은 프리티어 서비스 12개월 무료 사용 가능"
   ]
  },
  {
   "cell_type": "markdown",
   "id": "45435c40",
   "metadata": {},
   "source": [
    "## 2. EC2 생성 & Security group 설정"
   ]
  },
  {
   "cell_type": "markdown",
   "id": "da4f9a93",
   "metadata": {},
   "source": [
    "### EC2 생성 (1/4) - AMI 선택\n",
    "- 딥러닝 AMI가 설치된 EC2를 생성하여 필요 개발 환경 사전 세팅."
   ]
  },
  {
   "cell_type": "markdown",
   "id": "3b52c508",
   "metadata": {},
   "source": [
    "### EC2 생성 (2/4) - 인스턴스 유형 선택 & 보안 그룹 설정\n",
    "1. 프리티어인 t2.micro 또는 computing에 최적화된 가장 저렴한 c5.large 인스턴스 유형 선택한 후\n",
    "2. \"다음: 인스턴스 세부정보 구성\" 클릭.\n",
    "3. \"단계6: 보안그룹 구성\"이 나올 때까지 계속 다음 클릭.\n",
    "4. 원격으로 API 서버에 접근/호출할 수 있도록 사용자 설정 포트를 새로 생성 후 검토 및 시작\n",
    "    - ex) 포트범위: 5000, 소스 0.0.0.0/0\n"
   ]
  },
  {
   "cell_type": "markdown",
   "id": "409aa978",
   "metadata": {},
   "source": [
    "### EC2 생성 (3/4) - 키 페어 생성 & 인스턴스 시작 검토\n",
    "1. 보안을 위한 키 페어 생성을 위해 키페어 이름을 입력\n",
    "2. \"키 페어 다운로드\"를 클릭하여 키 페어 다운로드\n",
    "    - 다운로드한 키 페어는 이후 인스턴스에 접속하기 위해 필요\n",
    "3. 인스턴스 시작"
   ]
  },
  {
   "cell_type": "markdown",
   "id": "704fcd07",
   "metadata": {},
   "source": [
    "### EC2 생성 (1/4) - 인스턴스 생성 확인\n",
    "- 실행 중인 인스턴스 확인"
   ]
  },
  {
   "cell_type": "markdown",
   "id": "772643dd",
   "metadata": {},
   "source": [
    "## 3. 탄력적 IP 설정"
   ]
  },
  {
   "cell_type": "markdown",
   "id": "267b216e",
   "metadata": {},
   "source": [
    "### 탄력적 IP 설정(1/3) - 탄력적 IP 생성\n",
    "- 인스턴스를 중지 또는 종료 후 다시 시작하거나 생성하게 되면 기존 퍼블릭 IP가 변경됨\n",
    "- 퍼블릭 IP를 고정으로 사용하고 싶을 때 탄력적 IP 주소를 할당할 수 있으나 추가 과금 발생\n",
    "\n",
    "\n",
    "- 탄력적 IP 생성을 위해 \"탄력적 IP 주소 할당\" 클릭"
   ]
  },
  {
   "cell_type": "markdown",
   "id": "d6d79ff4",
   "metadata": {},
   "source": [
    "### 탄력적 IP 설정(2/3) - 탄력적 IP를 인스턴스에 연결\n",
    "- 생성한 탄력적 IP를 기 생성한 인스턴스의 IP주소로 사용하기 위해 연결"
   ]
  },
  {
   "cell_type": "markdown",
   "id": "63d3e6f4",
   "metadata": {},
   "source": [
    "### 탄력적 IP 설정(3/3) - 연결 확인"
   ]
  },
  {
   "cell_type": "markdown",
   "id": "e3e67fcb",
   "metadata": {},
   "source": [
    "## 4. VS Code로 환경 테스트"
   ]
  },
  {
   "cell_type": "markdown",
   "id": "ece186fe",
   "metadata": {},
   "source": [
    "### VS Code로 환경 테스트(1/4) - 인스턴스 연결 초기화(initialization)\n",
    "- 다운로드 받은 키 페어가 있는 위치에서 AWS 가이드에 따라 진행\n",
    "- MacOS 또는 Linux는 자체 터미널로 바로 수행 가능\n",
    "- Windows는 OpenSSH 클라이언트 설치 후 CMD 또는 PowerShell에서 진행 가능"
   ]
  },
  {
   "cell_type": "markdown",
   "id": "a1e97bf4",
   "metadata": {},
   "source": [
    "### VS Code로 환경 테스트(2/4) - 원격 접속 및 개발을 위한 VS Code 플러그인 설치"
   ]
  },
  {
   "cell_type": "markdown",
   "id": "2f797fdc",
   "metadata": {},
   "source": [
    "### VS Code로 환경 테스트(3/4) - 인스턴스에 접속\n",
    "1. \"Remote-SSH: Connect to Host...\" 선택\n",
    "2. ssh -i \"kdt.pem\" ubuntu@public-ip-adress 입력\n",
    "3. Select SSH configuration file"
   ]
  },
  {
   "cell_type": "markdown",
   "id": "25223610",
   "metadata": {},
   "source": [
    "### VS Code로 환경 테스트(4/4) - 터미널 열고 환경 확인\n",
    "- 터미널에서 \"conda env list\"로 세팅되어 있는 가상환경 확인"
   ]
  }
 ],
 "metadata": {
  "kernelspec": {
   "display_name": "Python 3",
   "language": "python",
   "name": "python3"
  },
  "language_info": {
   "codemirror_mode": {
    "name": "ipython",
    "version": 3
   },
   "file_extension": ".py",
   "mimetype": "text/x-python",
   "name": "python",
   "nbconvert_exporter": "python",
   "pygments_lexer": "ipython3",
   "version": "3.8.8"
  }
 },
 "nbformat": 4,
 "nbformat_minor": 5
}

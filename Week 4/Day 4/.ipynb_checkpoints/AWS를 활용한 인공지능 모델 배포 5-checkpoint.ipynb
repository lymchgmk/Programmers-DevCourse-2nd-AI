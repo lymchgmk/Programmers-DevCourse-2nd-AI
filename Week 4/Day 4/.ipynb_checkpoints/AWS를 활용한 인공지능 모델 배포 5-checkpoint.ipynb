{
 "cells": [
  {
   "cell_type": "markdown",
   "id": "dc5976c9",
   "metadata": {},
   "source": [
    "# AWS를 활용한 인공지능 모델 배포 5"
   ]
  },
  {
   "cell_type": "code",
   "execution_count": null,
   "id": "c51d7dee",
   "metadata": {},
   "outputs": [],
   "source": []
  }
 ],
 "metadata": {
  "kernelspec": {
   "display_name": "Python 3",
   "language": "python",
   "name": "python3"
  },
  "language_info": {
   "codemirror_mode": {
    "name": "ipython",
    "version": 3
   },
   "file_extension": ".py",
   "mimetype": "text/x-python",
   "name": "python",
   "nbconvert_exporter": "python",
   "pygments_lexer": "ipython3",
   "version": "3.8.8"
  }
 },
 "nbformat": 4,
 "nbformat_minor": 5
}

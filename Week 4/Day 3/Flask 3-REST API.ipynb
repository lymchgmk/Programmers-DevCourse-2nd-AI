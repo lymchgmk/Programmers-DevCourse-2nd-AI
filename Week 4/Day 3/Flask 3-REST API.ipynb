{
 "cells": [
  {
   "cell_type": "markdown",
   "id": "50aa7092",
   "metadata": {},
   "source": [
    "# Flask 3-REST API"
   ]
  },
  {
   "cell_type": "markdown",
   "id": "aa32e2fc",
   "metadata": {},
   "source": [
    "## API (Application Programming Interface)\n",
    "> 프로그램들이 서로 상호작용하는 것을 도와주는 **매개체**"
   ]
  },
  {
   "cell_type": "markdown",
   "id": "b1516f4c",
   "metadata": {},
   "source": [
    "## RESTful\n",
    "> Representational State Transfer\n",
    "\n",
    "- 웹 서버가 요청을 응답하는 방법론 중 하나\n",
    "    - 데이터가 아닌, **자원(Resource)**의 관점으로 접근"
   ]
  },
  {
   "cell_type": "markdown",
   "id": "f3aa7362",
   "metadata": {},
   "source": [
    "## REST API\n",
    "> **HTTP URI**를 통해 자원을 명시하고, **HTTP Method**를 통해 해당 자원에 대한 CRUD를 진행\n",
    "\n",
    "- URI (Uniform Resource Identifier): 인터넷에 있는 자원을 나타내는 유일한 주소.\n",
    "- URL (Uniform Resource Locator): 네트워크 상에서 자원이 어디 있는지를 알려주기 위한 규약.\n",
    "- URN (Uniform Resource Name): urn:scheme 을 사용하는 URI를 위한 역사적인 이름. URL의 한계, 주소이지 실제 이름이 아닌 점을 개선하기 위해 창안."
   ]
  },
  {
   "cell_type": "markdown",
   "id": "a769ca4e",
   "metadata": {},
   "source": [
    "## REST API Example\n",
    "> HTTP Method + /Resource\n",
    "\n",
    "- HTTP Method: GET, POST, PUT, DELETE"
   ]
  },
  {
   "cell_type": "markdown",
   "id": "6217d5fa",
   "metadata": {},
   "source": [
    "## REST API의 Stateless\n",
    "> Client의 Context를 서버에서 유지하지 않는다.\n",
    "\n",
    "- 로그인처럼 특정 유저의 응답에 특정 답을 주는 것이 아니라, 요청이 같다면 같은 답을 주는 특성."
   ]
  },
  {
   "cell_type": "markdown",
   "id": "9f4c6ae0",
   "metadata": {},
   "source": [
    "## REST API의 Stateless Example\n",
    "- POST/shoes 는 자원에 새로운 정보를 생성\n",
    "- GET/shoes는 DB에서 shoes가 있는지 확인 후 해당 자원 반환\n",
    "    - (서버 입장에서) 아이템을 GET하기 위해서 POST를 진행할 필요가 없음"
   ]
  },
  {
   "cell_type": "markdown",
   "id": "b795d4dd",
   "metadata": {},
   "source": [
    "## REST API Example"
   ]
  },
  {
   "cell_type": "code",
   "execution_count": null,
   "id": "7995a79a",
   "metadata": {},
   "outputs": [
    {
     "name": "stdout",
     "output_type": "stream",
     "text": [
      " * Serving Flask app \"__main__\" (lazy loading)\n",
      " * Environment: production\n",
      "   WARNING: This is a development server. Do not use it in a production deployment.\n",
      "   Use a production WSGI server instead.\n",
      " * Debug mode: off\n"
     ]
    },
    {
     "name": "stderr",
     "output_type": "stream",
     "text": [
      " * Running on http://127.0.0.1:5000/ (Press CTRL+C to quit)\n"
     ]
    }
   ],
   "source": [
    "from flask import Flask, jsonify, request\n",
    "\n",
    "app = Flask(__name__)\n",
    "\n",
    "menus = [\n",
    "    {'id': 1, 'name': 'Espresso', 'price': 3800},\n",
    "    {'id': 2, 'name': 'Americano', 'price': 4100},\n",
    "    {'id': 3, 'name': 'CafeLatte', 'price': 4600}\n",
    "]\n",
    "\n",
    "\n",
    "@app.route('/')\n",
    "def hello_flask():\n",
    "    return 'Hello World!'\n",
    "\n",
    "\n",
    "# GET /menus | 자료를 가지고 온다.\n",
    "@app.route('/menus')\n",
    "def get_menus():\n",
    "    return jsonify({'menus': menus})\n",
    "\n",
    "\n",
    "# POST /menus | 자료를 자원에 추가한다.\n",
    "@app.route('/menus', methods=['POST'])\n",
    "def create_menu():  # request가 JSON이라고 가정\n",
    "    # 전달받은 자료를 menus 자원에 추가\n",
    "    request_data = request.get_json()  # {'name': ..., 'price': ...}\n",
    "    new_menu = {\n",
    "        'id': 4,\n",
    "        'name': request_data['name'],\n",
    "        'price': request_data['price']\n",
    "    }\n",
    "    menus.append(new_menu)\n",
    "    return jsonify(new_menu)\n",
    "\n",
    "\n",
    "if __name__ == '__main__':\n",
    "    app.run()"
   ]
  },
  {
   "cell_type": "markdown",
   "id": "c60d853e",
   "metadata": {},
   "source": [
    "#### Postman\n",
    "> API 테스트"
   ]
  },
  {
   "cell_type": "code",
   "execution_count": null,
   "id": "caaef705",
   "metadata": {},
   "outputs": [],
   "source": []
  }
 ],
 "metadata": {
  "kernelspec": {
   "display_name": "Python 3",
   "language": "python",
   "name": "python3"
  },
  "language_info": {
   "codemirror_mode": {
    "name": "ipython",
    "version": 3
   },
   "file_extension": ".py",
   "mimetype": "text/x-python",
   "name": "python",
   "nbconvert_exporter": "python",
   "pygments_lexer": "ipython3",
   "version": "3.8.8"
  }
 },
 "nbformat": 4,
 "nbformat_minor": 5
}

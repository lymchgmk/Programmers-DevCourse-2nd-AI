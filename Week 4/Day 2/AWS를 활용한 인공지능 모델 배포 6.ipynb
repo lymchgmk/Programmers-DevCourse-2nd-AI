{
 "cells": [
  {
   "cell_type": "markdown",
   "id": "4f3e6b68",
   "metadata": {},
   "source": [
    "# AWS를 활용한 인공지능 모델 배포 6"
   ]
  },
  {
   "cell_type": "code",
   "execution_count": null,
   "id": "c911cb62",
   "metadata": {},
   "outputs": [],
   "source": []
  }
 ],
 "metadata": {
  "kernelspec": {
   "display_name": "Python 3",
   "language": "python",
   "name": "python3"
  },
  "language_info": {
   "codemirror_mode": {
    "name": "ipython",
    "version": 3
   },
   "file_extension": ".py",
   "mimetype": "text/x-python",
   "name": "python",
   "nbconvert_exporter": "python",
   "pygments_lexer": "ipython3",
   "version": "3.8.8"
  }
 },
 "nbformat": 4,
 "nbformat_minor": 5
}

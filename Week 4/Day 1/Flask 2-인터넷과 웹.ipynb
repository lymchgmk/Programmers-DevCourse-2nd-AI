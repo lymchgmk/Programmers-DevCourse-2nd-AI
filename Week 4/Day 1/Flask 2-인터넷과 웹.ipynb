{
 "cells": [
  {
   "cell_type": "markdown",
   "id": "bdec7c0f",
   "metadata": {},
   "source": [
    "# 1. 인터넷과 웹"
   ]
  },
  {
   "cell_type": "markdown",
   "id": "df1b6650",
   "metadata": {},
   "source": [
    "## 인터넷(Internet)\n",
    "> 전 세계 컴퓨터를 하나로 합치는 거대한 **통신망**"
   ]
  },
  {
   "cell_type": "markdown",
   "id": "6334ffc0",
   "metadata": {},
   "source": [
    "## 웹(Web)\n",
    "> 인터넷에 연결된 사용자들이 정보를 공유할 수 있는 **공간**\n",
    "\n",
    "- 웹은 인터넷 위에서 동작\n",
    "    - 메일은 웹과 다른 프로토콜을 사용\n",
    "    \n",
    "- 웹의 요소인 웹페이지의 집합을 웹사이트라 함"
   ]
  },
  {
   "cell_type": "markdown",
   "id": "36e2dc10",
   "metadata": {},
   "source": [
    "## 관찰: 신발 가게의 동작방식\n",
    "1. 손님이 원하는 색상과 사이즈를 담은 신발을 **요청**한다.\n",
    "2. 직원이 해당 요청을 처리한다.\n",
    "3. 손님의 요청에 **응답**한다."
   ]
  },
  {
   "cell_type": "markdown",
   "id": "f97534ed",
   "metadata": {},
   "source": [
    "## 우리가 Web을 사용하는 방법\n",
    "1. 웹 브라우저(Chrome, Safari, ...)를 실행한다.\n",
    "2. 주소창에 주소를 입력한다.\n",
    "3. Enter를 누르면 원하는 정보를 얻는 페이지로 이동.\n",
    "    - 3-1.혹은 에러페이지를 보기도 한다."
   ]
  },
  {
   "cell_type": "markdown",
   "id": "4d44491c",
   "metadata": {},
   "source": [
    "### Web의 동작방식\n",
    "> 웹은 클라이언트와 서버 사이의 소통이다.\n",
    "\n",
    "- 클라이언트(Client): 정보를 요청하는 입장\n",
    "- 서버(Server): 정보를 제공하는 입장.\n",
    "\n",
    "1. Client가 Server에 (HTTP를 통해) 정보를 **요청(Request)**한다.\n",
    "2. Server는 이 요청받는 정보에 대한 **처리**를 진행한다.\n",
    "3. Server가 Client에게 요청에 대해 (HTTP를 통해 (HTML로)) **응답(Response)**한다.\n",
    "    - 3-1. 200, 403, 500 등등"
   ]
  }
 ],
 "metadata": {
  "kernelspec": {
   "display_name": "Python 3",
   "language": "python",
   "name": "python3"
  },
  "language_info": {
   "codemirror_mode": {
    "name": "ipython",
    "version": 3
   },
   "file_extension": ".py",
   "mimetype": "text/x-python",
   "name": "python",
   "nbconvert_exporter": "python",
   "pygments_lexer": "ipython3",
   "version": "3.8.8"
  }
 },
 "nbformat": 4,
 "nbformat_minor": 5
}
